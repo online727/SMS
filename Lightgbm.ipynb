{
 "cells": [
  {
   "cell_type": "code",
   "execution_count": 1,
   "metadata": {},
   "outputs": [],
   "source": [
    "import numpy as np\n",
    "import pandas as pd\n",
    "import lightgbm as lgb\n",
    "from sklearn.metrics import accuracy_score, precision_score, recall_score, f1_score, roc_auc_score\n",
    "import matplotlib.pyplot as plt\n",
    "\n",
    "import os\n",
    "\n",
    "save_path = \"./result/lightgbm\"\n",
    "model_path = \"./data/model_data/models/lightgbm\"\n",
    "os.makedirs(save_path, exist_ok=True)\n",
    "os.makedirs(model_path, exist_ok=True)"
   ]
  },
  {
   "cell_type": "code",
   "execution_count": 2,
   "metadata": {},
   "outputs": [],
   "source": [
    "feature_path = \"./data/model_data/period_features\"\n",
    "\n",
    "def load_feature(num_period: int, feature_path: str = feature_path) -> pd.DataFrame:\n",
    "    data = pd.read_parquet(f\"{feature_path}/features_period_{num_period}.parquet\")\n",
    "\n",
    "    date_range = data[\"Date\"].sort_values().unique()\n",
    "    data = data.set_index(\"Date\")\n",
    "\n",
    "    train_data = data.loc[date_range[:-250]]\n",
    "    test_data = data.loc[date_range[-250:]]\n",
    "\n",
    "    return train_data.reset_index(), test_data.reset_index()"
   ]
  },
  {
   "cell_type": "code",
   "execution_count": 3,
   "metadata": {},
   "outputs": [],
   "source": [
    "performance_stats = {}\n",
    "feature_importance = {}"
   ]
  },
  {
   "cell_type": "code",
   "execution_count": 4,
   "metadata": {},
   "outputs": [],
   "source": [
    "def lightgbm_single_period(period):\n",
    "    train_data, test_data = load_feature(period)\n",
    "    X_train = train_data.drop(columns=[\"Date\", \"Ticker\", \"Return_tomorrow\", \"Target\"])\n",
    "    y_train = train_data[\"Target\"]\n",
    "    X_test = test_data.drop(columns=[\"Date\", \"Ticker\", \"Return_tomorrow\", \"Target\"])\n",
    "    y_test = test_data[\"Target\"]\n",
    "\n",
    "    lgb_train = lgb.Dataset(X_train, y_train)\n",
    "    lgb_eval = lgb.Dataset(X_test, y_test, reference=lgb_train)\n",
    "\n",
    "    params = {\n",
    "        'boosting_type': 'gbdt',\n",
    "        'objective': 'binary',\n",
    "        'metric': 'binary_logloss',\n",
    "        'num_leaves': 31,\n",
    "        'learning_rate': 0.05,\n",
    "        'feature_fraction': 0.9,\n",
    "        'bagging_fraction': 0.8,\n",
    "        'bagging_freq': 5,\n",
    "        'verbose': 0\n",
    "    }\n",
    "\n",
    "    num_round = 100\n",
    "    bst = lgb.train(params, lgb_train, num_round, valid_sets=[lgb_eval])\n",
    "\n",
    "    y_pred_proba = bst.predict(X_test, num_iteration=bst.best_iteration)\n",
    "    y_pred = (y_pred_proba >= 0.5).astype(int)\n",
    "\n",
    "    result_df = test_data[[\"Date\", \"Ticker\", \"Return_tomorrow\", \"Target\"]].copy()\n",
    "    result_df[\"pred\"] = y_pred\n",
    "    result_df[\"pred_proba\"] = y_pred_proba\n",
    "\n",
    "    performance_stats[period] = {\n",
    "        \"accuracy\": accuracy_score(y_test, y_pred),\n",
    "        \"precision\": precision_score(y_test, y_pred),\n",
    "        \"recall\": recall_score(y_test, y_pred),\n",
    "        \"f1\": f1_score(y_test, y_pred),\n",
    "        \"roc_auc\": roc_auc_score(y_test, y_pred),\n",
    "        \"gini_index\": 2 * roc_auc_score(y_test, y_pred) - 1,\n",
    "    }\n",
    "\n",
    "    importance = bst.feature_importance(importance_type=\"gain\")\n",
    "    feature_names = bst.feature_name()\n",
    "    feature_importance[period] = dict(zip(feature_names, importance))\n",
    "\n",
    "    plt.figure(figsize=(12, 6))\n",
    "    lgb.plot_importance(bst, importance_type=\"gain\", title=f\"LightGBM Feature Importance of Period {period}\", ax=plt.gca())\n",
    "    plt.savefig(f\"{save_path}/lightgbm_feature_importance_{period}.png\")\n",
    "    plt.close()\n",
    "\n",
    "    result_df.to_parquet(f\"{save_path}/lightgbm_period_{period}.parquet\")\n",
    "    bst.save_model(f\"{model_path}/lightgbm_period_{period}.txt\")\n",
    "    return bst"
   ]
  },
  {
   "cell_type": "code",
   "execution_count": 5,
   "metadata": {},
   "outputs": [
    {
     "data": {
      "text/plain": [
       "({1: {'accuracy': 0.5158594266533304,\n",
       "   'precision': 0.5148697045845783,\n",
       "   'recall': 0.4439004418362647,\n",
       "   'f1': 0.4767584602136353,\n",
       "   'roc_auc': 0.5154132821598137,\n",
       "   'gini_index': 0.030826564319627492}},\n",
       " {'rtn_1': 2764.497874736786,\n",
       "  'rtn_2': 2170.6170325279236,\n",
       "  'rtn_3': 1432.3311514854431,\n",
       "  'rtn_4': 1515.7570304870605,\n",
       "  'rtn_5': 1396.9743785858154,\n",
       "  'rtn_6': 1497.5354762077332,\n",
       "  'rtn_7': 988.5767107009888,\n",
       "  'rtn_8': 863.6320486068726,\n",
       "  'rtn_9': 1121.8913469314575,\n",
       "  'rtn_10': 900.7544021606445,\n",
       "  'rtn_11': 877.1918439865112,\n",
       "  'rtn_12': 795.1405396461487,\n",
       "  'rtn_13': 997.7791471481323,\n",
       "  'rtn_14': 849.6829509735107,\n",
       "  'rtn_15': 831.118833065033,\n",
       "  'rtn_16': 794.8215289115906,\n",
       "  'rtn_17': 812.9528970718384,\n",
       "  'rtn_18': 975.5619025230408,\n",
       "  'rtn_19': 723.0829787254333,\n",
       "  'rtn_20': 809.5252089500427,\n",
       "  'rtn_40': 1178.5729813575745,\n",
       "  'rtn_60': 1172.93270778656,\n",
       "  'rtn_80': 1201.2683601379395,\n",
       "  'rtn_100': 1226.7164616584778,\n",
       "  'rtn_120': 1429.833945274353,\n",
       "  'rtn_140': 1236.9817543029785,\n",
       "  'rtn_160': 785.0473575592041,\n",
       "  'rtn_180': 930.6747808456421,\n",
       "  'rtn_200': 995.1111054420471,\n",
       "  'rtn_220': 806.0051889419556,\n",
       "  'rtn_240': 1466.8582601547241})"
      ]
     },
     "execution_count": 5,
     "metadata": {},
     "output_type": "execute_result"
    }
   ],
   "source": [
    "model = lightgbm_single_period(1)\n",
    "performance_stats, feature_importance[1]"
   ]
  },
  {
   "cell_type": "code",
   "execution_count": 6,
   "metadata": {},
   "outputs": [
    {
     "name": "stderr",
     "output_type": "stream",
     "text": [
      "  0%|          | 0/25 [00:00<?, ?it/s]"
     ]
    },
    {
     "name": "stderr",
     "output_type": "stream",
     "text": [
      "100%|██████████| 25/25 [04:56<00:00, 11.88s/it]\n"
     ]
    }
   ],
   "source": [
    "from tqdm import tqdm\n",
    "\n",
    "for period in tqdm(range(25)):\n",
    "    model = lightgbm_single_period(period)"
   ]
  },
  {
   "cell_type": "code",
   "execution_count": 7,
   "metadata": {},
   "outputs": [],
   "source": [
    "performance_stats_df = pd.DataFrame(performance_stats)\n",
    "performance_stats_df.to_csv(f\"{save_path}/lightgbm_performance_stats.csv\")"
   ]
  },
  {
   "cell_type": "code",
   "execution_count": 8,
   "metadata": {},
   "outputs": [],
   "source": [
    "feature_importance_df = pd.DataFrame(feature_importance)\n",
    "feature_importance_df[\"mean\"] = feature_importance_df.mean(axis=1)\n",
    "feature_importance_df = feature_importance_df.sort_values(\"mean\", ascending=False)\n",
    "feature_importance_df.to_csv(f\"{save_path}/lightgbm_feature_importance.csv\")"
   ]
  },
  {
   "cell_type": "code",
   "execution_count": 9,
   "metadata": {},
   "outputs": [],
   "source": [
    "all_df = pd.concat([pd.read_parquet(f\"{save_path}/lightgbm_period_{i}.parquet\") for i in range(25)])\n",
    "all_df.to_parquet(f\"{save_path}/lightgbm_all_periods.parquet\")"
   ]
  },
  {
   "cell_type": "code",
   "execution_count": 10,
   "metadata": {},
   "outputs": [
    {
     "data": {
      "text/plain": [
       "6250"
      ]
     },
     "execution_count": 10,
     "metadata": {},
     "output_type": "execute_result"
    }
   ],
   "source": [
    "all_df[\"Date\"].nunique()"
   ]
  },
  {
   "cell_type": "code",
   "execution_count": null,
   "metadata": {},
   "outputs": [],
   "source": []
  }
 ],
 "metadata": {
  "kernelspec": {
   "display_name": "torch",
   "language": "python",
   "name": "python3"
  },
  "language_info": {
   "codemirror_mode": {
    "name": "ipython",
    "version": 3
   },
   "file_extension": ".py",
   "mimetype": "text/x-python",
   "name": "python",
   "nbconvert_exporter": "python",
   "pygments_lexer": "ipython3",
   "version": "3.8.0"
  }
 },
 "nbformat": 4,
 "nbformat_minor": 2
}
