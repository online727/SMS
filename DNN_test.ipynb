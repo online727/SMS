{
 "cells": [
  {
   "cell_type": "code",
   "execution_count": 1,
   "metadata": {},
   "outputs": [],
   "source": [
    "import torch\n",
    "import torch.nn as nn\n",
    "import torch.nn.functional as F\n",
    "\n",
    "import pandas as pd\n",
    "import numpy as np"
   ]
  },
  {
   "cell_type": "code",
   "execution_count": 2,
   "metadata": {},
   "outputs": [
    {
     "name": "stdout",
     "output_type": "stream",
     "text": [
      "cuda:0\n"
     ]
    }
   ],
   "source": [
    "# the number of gpu\n",
    "device = torch.device(\"cuda:0\" if torch.cuda.is_available() else \"cpu\")\n",
    "print(device)"
   ]
  },
  {
   "cell_type": "code",
   "execution_count": 3,
   "metadata": {},
   "outputs": [],
   "source": [
    "feature_path = \"./data/model_data/period_features\"\n",
    "\n",
    "def load_feature(num_period: int, feature_path: str = feature_path) -> pd.DataFrame:\n",
    "    data = pd.read_parquet(f\"{feature_path}/features_period_{num_period}.parquet\")\n",
    "    # data.iloc[:, 2:] = data.iloc[:, 2:].fillna(data.iloc[:, 2:].median())\n",
    "    test_data = data.groupby(\"Ticker\").tail(250)\n",
    "    train_data = data.loc[data.index.difference(test_data.index)]\n",
    "    # print(f\"Loaded {num_period} period data\")\n",
    "    # print(f\"Number of stocks: {data.Stock.nunique()}\")\n",
    "    # print(f\"Training days: {train_data.Date.nunique()}\")\n",
    "    # print(f\"Testing days: {test_data.Date.nunique()}\")\n",
    "    return train_data.reset_index(drop=True), test_data.reset_index(drop=True)"
   ]
  },
  {
   "cell_type": "code",
   "execution_count": 19,
   "metadata": {},
   "outputs": [
    {
     "name": "stdout",
     "output_type": "stream",
     "text": [
      "torch.Size([236590, 31]) torch.Size([236590]) torch.Size([118000, 31]) torch.Size([118000])\n"
     ]
    }
   ],
   "source": [
    "train_data, test_data = load_feature(1)\n",
    "\n",
    "X_train = train_data.drop(columns=[\"Date\", \"Ticker\", \"Return_tomorrow\", \"Target\"])\n",
    "y_train = train_data[\"Target\"]\n",
    "X_test = test_data.drop(columns=[\"Date\", \"Ticker\", \"Return_tomorrow\", \"Target\"])\n",
    "y_test = test_data[\"Target\"]\n",
    "\n",
    "X_train = torch.tensor(X_train.values, dtype=torch.float32)\n",
    "y_train = torch.tensor(y_train.values, dtype=torch.long)\n",
    "X_test = torch.tensor(X_test.values, dtype=torch.float32, requires_grad=False)\n",
    "y_test = torch.tensor(y_test.values, dtype=torch.long, requires_grad=False)\n",
    "\n",
    "print(X_train.shape, y_train.shape, X_test.shape, y_test.shape)"
   ]
  },
  {
   "cell_type": "code",
   "execution_count": 5,
   "metadata": {},
   "outputs": [
    {
     "name": "stdout",
     "output_type": "stream",
     "text": [
      "torch.Size([256, 31]) torch.Size([256])\n"
     ]
    }
   ],
   "source": [
    "from torch.utils.data import Dataset, DataLoader\n",
    "\n",
    "class StockDataset(Dataset):\n",
    "    def __init__(self, features, labels):\n",
    "        self.features = features\n",
    "        self.labels = labels\n",
    "\n",
    "    def __len__(self):\n",
    "        return len(self.features)\n",
    "\n",
    "    def __getitem__(self, index):\n",
    "        return self.features[index], self.labels[index]\n",
    "\n",
    "stock_dataset = StockDataset(X_train, y_train)\n",
    "\n",
    "batch_size = 256\n",
    "\n",
    "train_loader = DataLoader(stock_dataset, batch_size=batch_size, shuffle=True)\n",
    "\n",
    "for features, labels in train_loader:\n",
    "    print(features.shape, labels.shape)\n",
    "    break"
   ]
  },
  {
   "cell_type": "code",
   "execution_count": 6,
   "metadata": {},
   "outputs": [],
   "source": [
    "# 定义 Maxout 单元\n",
    "class Maxout(nn.Module):\n",
    "    def __init__(self, in_features, out_features, num_pieces):\n",
    "        super(Maxout, self).__init__()\n",
    "        self.in_features = in_features\n",
    "        self.out_features = out_features\n",
    "        self.num_pieces = num_pieces\n",
    "        self.linear_layers = nn.ModuleList([\n",
    "            nn.Linear(in_features, out_features) for _ in range(num_pieces)\n",
    "        ])\n",
    "\n",
    "    def forward(self, x):\n",
    "        outputs = [self.linear_layers[i](x) for i in range(self.num_pieces)]\n",
    "        max_output = torch.max(torch.stack(outputs), 0)[0]\n",
    "        return max_output\n",
    "\n",
    "\n",
    "# Network\n",
    "class MaxoutNetWithRegularization(nn.Module):\n",
    "    def __init__(self, dropout_input=0.1, dropout_hidden=0.5, l1_lambda=0.00001):\n",
    "        super(MaxoutNetWithRegularization, self).__init__()\n",
    "        self.l1_lambda = l1_lambda\n",
    "        self.maxout1 = Maxout(31, 31, 2) \n",
    "        self.dropout1 = nn.Dropout(p=dropout_input)  # 输入层 dropout\n",
    "        self.maxout2 = Maxout(31, 10, 2)\n",
    "        self.dropout2 = nn.Dropout(p=dropout_hidden)  # 隐藏层 dropout\n",
    "        self.maxout3 = Maxout(10, 5, 2)\n",
    "        self.dropout3 = nn.Dropout(p=dropout_hidden)  # 隐藏层 dropout\n",
    "        self.sigmoid_output = nn.Linear(5, 2)\n",
    "\n",
    "    def forward(self, x):\n",
    "        x = self.dropout1(x)\n",
    "        x = self.maxout1(x)\n",
    "        x = self.dropout2(x)\n",
    "        x = self.maxout2(x)\n",
    "        x = self.dropout3(x)\n",
    "        x = self.maxout3(x)\n",
    "        x = self.sigmoid_output(x)\n",
    "        return x\n",
    "    \n",
    "    # 计算 L1 正则化损失\n",
    "    def l1_regularization(self):\n",
    "        l1_loss = 0\n",
    "        for param in self.parameters():\n",
    "            l1_loss += torch.sum(torch.abs(param))\n",
    "        return self.l1_lambda * l1_loss"
   ]
  },
  {
   "cell_type": "code",
   "execution_count": 7,
   "metadata": {},
   "outputs": [
    {
     "name": "stdout",
     "output_type": "stream",
     "text": [
      "MaxoutNetWithRegularization(\n",
      "  (maxout1): Maxout(\n",
      "    (linear_layers): ModuleList(\n",
      "      (0-1): 2 x Linear(in_features=31, out_features=31, bias=True)\n",
      "    )\n",
      "  )\n",
      "  (dropout1): Dropout(p=0.1, inplace=False)\n",
      "  (maxout2): Maxout(\n",
      "    (linear_layers): ModuleList(\n",
      "      (0-1): 2 x Linear(in_features=31, out_features=10, bias=True)\n",
      "    )\n",
      "  )\n",
      "  (dropout2): Dropout(p=0.5, inplace=False)\n",
      "  (maxout3): Maxout(\n",
      "    (linear_layers): ModuleList(\n",
      "      (0-1): 2 x Linear(in_features=10, out_features=5, bias=True)\n",
      "    )\n",
      "  )\n",
      "  (dropout3): Dropout(p=0.5, inplace=False)\n",
      "  (sigmoid_output): Linear(in_features=5, out_features=2, bias=True)\n",
      ")\n"
     ]
    }
   ],
   "source": [
    "# 创建网络实例\n",
    "net_with_regularization = MaxoutNetWithRegularization()\n",
    "print(net_with_regularization)  # 打印网络结构"
   ]
  },
  {
   "cell_type": "code",
   "execution_count": 8,
   "metadata": {},
   "outputs": [
    {
     "name": "stdout",
     "output_type": "stream",
     "text": [
      "tensor([[-0.5671, -0.2858],\n",
      "        [-0.4758, -0.1537]], grad_fn=<SliceBackward0>) tensor(0.7368, grad_fn=<NllLossBackward0>) tensor(0.0025, grad_fn=<MulBackward0>)\n"
     ]
    }
   ],
   "source": [
    "# 示例前向传播，并计算 L1 正则化损失\n",
    "example_input = torch.randn(128, 31)\n",
    "example_target = torch.randint(0, 2, (128,))\n",
    "criteria = nn.CrossEntropyLoss()\n",
    "example_output = net_with_regularization(example_input)\n",
    "loss = criteria(example_output, example_target)\n",
    "l1_loss = net_with_regularization.l1_regularization()\n",
    "print(example_output[:2], loss, l1_loss)"
   ]
  },
  {
   "cell_type": "code",
   "execution_count": 9,
   "metadata": {},
   "outputs": [
    {
     "name": "stdout",
     "output_type": "stream",
     "text": [
      "tensor([[0.4301, 0.5699],\n",
      "        [0.4201, 0.5799]], grad_fn=<SliceBackward0>) tensor([1, 1])\n"
     ]
    }
   ],
   "source": [
    "probabilities = F.softmax(example_output, dim=1)\n",
    "predicted_labels = torch.argmax(probabilities, dim=1)\n",
    "print(probabilities[:2], predicted_labels[:2])"
   ]
  },
  {
   "cell_type": "code",
   "execution_count": 10,
   "metadata": {},
   "outputs": [],
   "source": [
    "class EarlyStopping:\n",
    "    def __init__(self, patience=20, verbose=False, delta=0.0001):\n",
    "        \"\"\"\n",
    "        Args:\n",
    "            patience (int): 耐心值，即多少个epoch没有明显改进后停止训练\n",
    "            verbose (bool): 如果为True，则打印一条消息表示早停已被触发\n",
    "            delta (float): 改进的最小差值，仅当改进大于等于这个值时才计算为改进\n",
    "        \"\"\"\n",
    "        self.patience = patience\n",
    "        self.verbose = verbose\n",
    "        self.counter = 0\n",
    "        self.best_loss = None\n",
    "        self.early_stop = False\n",
    "        self.delta = delta\n",
    "\n",
    "    def __call__(self, train_loss):\n",
    "        if self.best_loss is None:\n",
    "            self.best_loss = train_loss\n",
    "        elif train_loss > self.best_loss - self.delta:\n",
    "            self.counter += 1\n",
    "            if self.counter >= self.patience:\n",
    "                self.early_stop = True\n",
    "                if self.verbose:\n",
    "                    print(\"早停: 停止训练\")\n",
    "        else:\n",
    "            self.best_loss = train_loss\n",
    "            self.counter = 0"
   ]
  },
  {
   "cell_type": "code",
   "execution_count": 11,
   "metadata": {},
   "outputs": [
    {
     "name": "stderr",
     "output_type": "stream",
     "text": [
      "Epoch 1/10: 100%|██████████| 925/925 [00:10<00:00, 91.78it/s, gradient=0.0104, loss=0.695] \n"
     ]
    },
    {
     "name": "stdout",
     "output_type": "stream",
     "text": [
      "Epoch 1, loss:  0.6954\n"
     ]
    },
    {
     "name": "stderr",
     "output_type": "stream",
     "text": [
      "Epoch 2/10: 100%|██████████| 925/925 [00:09<00:00, 97.28it/s, gradient=0.00705, loss=0.694] \n"
     ]
    },
    {
     "name": "stdout",
     "output_type": "stream",
     "text": [
      "Epoch 2, loss:  0.6944\n"
     ]
    },
    {
     "name": "stderr",
     "output_type": "stream",
     "text": [
      "Epoch 3/10: 100%|██████████| 925/925 [00:09<00:00, 98.61it/s, gradient=0.00766, loss=0.694] \n"
     ]
    },
    {
     "name": "stdout",
     "output_type": "stream",
     "text": [
      "Epoch 3, loss:  0.6940\n"
     ]
    },
    {
     "name": "stderr",
     "output_type": "stream",
     "text": [
      "Epoch 4/10: 100%|██████████| 925/925 [00:10<00:00, 92.27it/s, gradient=0.00776, loss=0.694] \n"
     ]
    },
    {
     "name": "stdout",
     "output_type": "stream",
     "text": [
      "Epoch 4, loss:  0.6936\n"
     ]
    },
    {
     "name": "stderr",
     "output_type": "stream",
     "text": [
      "Epoch 5/10: 100%|██████████| 925/925 [00:09<00:00, 94.17it/s, gradient=0.00866, loss=0.693] \n"
     ]
    },
    {
     "name": "stdout",
     "output_type": "stream",
     "text": [
      "Epoch 5, loss:  0.6934\n"
     ]
    },
    {
     "name": "stderr",
     "output_type": "stream",
     "text": [
      "Epoch 6/10: 100%|██████████| 925/925 [00:09<00:00, 97.30it/s, gradient=0.00857, loss=0.693] \n"
     ]
    },
    {
     "name": "stdout",
     "output_type": "stream",
     "text": [
      "Epoch 6, loss:  0.6933\n"
     ]
    },
    {
     "name": "stderr",
     "output_type": "stream",
     "text": [
      "Epoch 7/10: 100%|██████████| 925/925 [00:09<00:00, 99.86it/s, gradient=0.00918, loss=0.693] \n"
     ]
    },
    {
     "name": "stdout",
     "output_type": "stream",
     "text": [
      "Epoch 7, loss:  0.6932\n"
     ]
    },
    {
     "name": "stderr",
     "output_type": "stream",
     "text": [
      "Epoch 8/10: 100%|██████████| 925/925 [00:09<00:00, 98.00it/s, gradient=0.00894, loss=0.693] \n"
     ]
    },
    {
     "name": "stdout",
     "output_type": "stream",
     "text": [
      "Epoch 8, loss:  0.6931\n"
     ]
    },
    {
     "name": "stderr",
     "output_type": "stream",
     "text": [
      "Epoch 9/10: 100%|██████████| 925/925 [00:09<00:00, 99.69it/s, gradient=0.00984, loss=0.693] \n"
     ]
    },
    {
     "name": "stdout",
     "output_type": "stream",
     "text": [
      "Epoch 9, loss:  0.6931\n"
     ]
    },
    {
     "name": "stderr",
     "output_type": "stream",
     "text": [
      "Epoch 10/10: 100%|██████████| 925/925 [00:09<00:00, 98.77it/s, gradient=0.009, loss=0.693]   "
     ]
    },
    {
     "name": "stdout",
     "output_type": "stream",
     "text": [
      "Epoch 10, loss:  0.6930\n"
     ]
    },
    {
     "name": "stderr",
     "output_type": "stream",
     "text": [
      "\n"
     ]
    }
   ],
   "source": [
    "import torch.optim as optim\n",
    "from tqdm import tqdm\n",
    "\n",
    "dataset = StockDataset(X_train, y_train)\n",
    "dataloader = DataLoader(dataset, batch_size=256, shuffle=True, num_workers=4)\n",
    "\n",
    "model = MaxoutNetWithRegularization()\n",
    "model = model.to(device)\n",
    "\n",
    "criteria = nn.CrossEntropyLoss(reduction='mean')\n",
    "optimizer = optim.Adam(model.parameters(), lr=0.001)\n",
    "\n",
    "epochs = 10\n",
    "\n",
    "early_stopping = EarlyStopping(patience=20, verbose=True, delta=0.0001)\n",
    "\n",
    "losses = []\n",
    "gradients = []\n",
    "\n",
    "model.train()\n",
    "for epoch in range(epochs):\n",
    "    epoch_losses = []\n",
    "    epoch_gradients = []\n",
    "    progress_bar = tqdm(dataloader, desc=f'Epoch {epoch+1}/{epochs}')\n",
    "\n",
    "    for inputs, targets in progress_bar:\n",
    "        targets = targets.long()\n",
    "        inputs, targets = inputs.to(device), targets.to(device)\n",
    "\n",
    "        outputs = model(inputs)\n",
    "\n",
    "        loss = criteria(outputs, targets) + model.l1_regularization()\n",
    "\n",
    "        optimizer.zero_grad()\n",
    "        loss.backward()\n",
    "        optimizer.step()\n",
    "\n",
    "        epoch_losses.append(loss.item())\n",
    "        epoch_gradients.append(model.maxout1.linear_layers[0].weight.grad.norm().item())\n",
    "\n",
    "        progress_bar.set_postfix(loss=torch.mean(torch.tensor(epoch_losses)).item(), gradient=torch.mean(torch.tensor(epoch_gradients)).item())\n",
    "\n",
    "    avg_loss = sum(epoch_losses) / len(epoch_losses)\n",
    "    avg_gradient = sum(epoch_gradients) / len(epoch_gradients)\n",
    "    losses.append(avg_loss)\n",
    "    gradients.append(avg_gradient)\n",
    "\n",
    "    print(f\"Epoch {epoch+1}, loss: {avg_loss: .4f}\")\n",
    "    \n",
    "    early_stopping(avg_loss)\n",
    "    if early_stopping.early_stop:\n",
    "        print(\"Early stopping triggered\")\n",
    "        break"
   ]
  },
  {
   "cell_type": "code",
   "execution_count": 12,
   "metadata": {},
   "outputs": [
    {
     "data": {
      "image/png": "[encoded data removed]",
      "text/plain": [
       "<Figure size 1000x500 with 2 Axes>"
      ]
     },
     "metadata": {},
     "output_type": "display_data"
    }
   ],
   "source": [
    "import matplotlib.pyplot as plt\n",
    "\n",
    "# 绘制损失曲线\n",
    "plt.figure(figsize=(10, 5))\n",
    "plt.subplot(1, 2, 1)\n",
    "plt.plot(losses, label='Loss')\n",
    "plt.title('Training Loss')\n",
    "plt.xlabel('Epoch')\n",
    "plt.ylabel('Loss')\n",
    "plt.legend()\n",
    "\n",
    "# 绘制梯度曲线\n",
    "plt.subplot(1, 2, 2)\n",
    "plt.plot(gradients, label='Gradient Norm', color='red')\n",
    "plt.title('Gradient Norm')\n",
    "plt.xlabel('Epoch')\n",
    "plt.ylabel('Gradient Norm')\n",
    "plt.legend()\n",
    "\n",
    "plt.suptitle('Training Loss and Gradient Norm')\n",
    "\n",
    "plt.tight_layout()\n",
    "plt.show()"
   ]
  },
  {
   "cell_type": "code",
   "execution_count": 20,
   "metadata": {},
   "outputs": [
    {
     "name": "stdout",
     "output_type": "stream",
     "text": [
      "Test loss: 0.6924\n",
      "Accuracy: 0.5142\n",
      "Recall: 0.3670\n",
      "Precision: 0.5156\n",
      "F1: 0.4288\n"
     ]
    }
   ],
   "source": [
    "from sklearn.metrics import accuracy_score, recall_score, precision_score, f1_score\n",
    "\n",
    "# predict\n",
    "model.eval()\n",
    "\n",
    "model = model.to(\"cpu\")\n",
    "\n",
    "with torch.no_grad():\n",
    "    outputs = model(X_test)\n",
    "    probabilities = F.softmax(outputs, dim=1)\n",
    "    predicted_labels = torch.argmax(probabilities, dim=1)\n",
    "    test_loss = criteria(outputs, y_test)\n",
    "    accuracy = accuracy_score(y_test, predicted_labels)\n",
    "    recall = recall_score(y_test, predicted_labels)\n",
    "    precision = precision_score(y_test, predicted_labels)\n",
    "    f1 = f1_score(y_test, predicted_labels)\n",
    "\n",
    "print(f\"Test loss: {test_loss:.4f}\")\n",
    "print(f\"Accuracy: {accuracy:.4f}\")\n",
    "print(f\"Recall: {recall:.4f}\")\n",
    "print(f\"Precision: {precision:.4f}\")\n",
    "print(f\"F1: {f1:.4f}\")"
   ]
  },
  {
   "cell_type": "code",
   "execution_count": 23,
   "metadata": {},
   "outputs": [
    {
     "data": {
      "text/plain": [
       "array([0, 1, 0, ..., 1, 1, 1])"
      ]
     },
     "execution_count": 23,
     "metadata": {},
     "output_type": "execute_result"
    }
   ],
   "source": [
    "predicted_labels.numpy()"
   ]
  }
 ],
 "metadata": {
  "kernelspec": {
   "display_name": "pytorch",
   "language": "python",
   "name": "python3"
  },
  "language_info": {
   "codemirror_mode": {
    "name": "ipython",
    "version": 3
   },
   "file_extension": ".py",
   "mimetype": "text/x-python",
   "name": "python",
   "nbconvert_exporter": "python",
   "pygments_lexer": "ipython3",
   "version": "3.8.0"
  }
 },
 "nbformat": 4,
 "nbformat_minor": 2
}
