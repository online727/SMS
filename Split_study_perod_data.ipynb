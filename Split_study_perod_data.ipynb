{
 "cells": [
  {
   "cell_type": "code",
   "execution_count": 1,
   "metadata": {},
   "outputs": [],
   "source": [
    "import pandas as pd\n",
    "import datetime as dt\n",
    "import os\n",
    "\n",
    "os.chdir(\"./data/stocks_data\")"
   ]
  },
  {
   "cell_type": "markdown",
   "metadata": {},
   "source": [
    "# 1. Get all trading dates"
   ]
  },
  {
   "cell_type": "code",
   "execution_count": 2,
   "metadata": {},
   "outputs": [
    {
     "data": {
      "text/html": [
       "<div>\n",
       "<style scoped>\n",
       "    .dataframe tbody tr th:only-of-type {\n",
       "        vertical-align: middle;\n",
       "    }\n",
       "\n",
       "    .dataframe tbody tr th {\n",
       "        vertical-align: top;\n",
       "    }\n",
       "\n",
       "    .dataframe thead th {\n",
       "        text-align: right;\n",
       "    }\n",
       "</style>\n",
       "<table border=\"1\" class=\"dataframe\">\n",
       "  <thead>\n",
       "    <tr style=\"text-align: right;\">\n",
       "      <th></th>\n",
       "      <th>Open</th>\n",
       "      <th>High</th>\n",
       "      <th>Low</th>\n",
       "      <th>Close</th>\n",
       "      <th>Adj Close</th>\n",
       "      <th>Volume</th>\n",
       "      <th>Return_tomorrow</th>\n",
       "    </tr>\n",
       "    <tr>\n",
       "      <th>Date</th>\n",
       "      <th></th>\n",
       "      <th></th>\n",
       "      <th></th>\n",
       "      <th></th>\n",
       "      <th></th>\n",
       "      <th></th>\n",
       "      <th></th>\n",
       "    </tr>\n",
       "  </thead>\n",
       "  <tbody>\n",
       "    <tr>\n",
       "      <th>1989-01-03</th>\n",
       "      <td>0.359375</td>\n",
       "      <td>0.361607</td>\n",
       "      <td>0.357143</td>\n",
       "      <td>0.360491</td>\n",
       "      <td>0.281993</td>\n",
       "      <td>100016000</td>\n",
       "      <td>0.040248</td>\n",
       "    </tr>\n",
       "    <tr>\n",
       "      <th>1989-01-04</th>\n",
       "      <td>0.363839</td>\n",
       "      <td>0.376116</td>\n",
       "      <td>0.361607</td>\n",
       "      <td>0.375000</td>\n",
       "      <td>0.293342</td>\n",
       "      <td>239948800</td>\n",
       "      <td>0.005952</td>\n",
       "    </tr>\n",
       "    <tr>\n",
       "      <th>1989-01-05</th>\n",
       "      <td>0.375000</td>\n",
       "      <td>0.386161</td>\n",
       "      <td>0.368304</td>\n",
       "      <td>0.377232</td>\n",
       "      <td>0.295088</td>\n",
       "      <td>307328000</td>\n",
       "      <td>0.008875</td>\n",
       "    </tr>\n",
       "    <tr>\n",
       "      <th>1989-01-06</th>\n",
       "      <td>0.377232</td>\n",
       "      <td>0.388393</td>\n",
       "      <td>0.377232</td>\n",
       "      <td>0.380580</td>\n",
       "      <td>0.297707</td>\n",
       "      <td>198665600</td>\n",
       "      <td>0.008800</td>\n",
       "    </tr>\n",
       "    <tr>\n",
       "      <th>1989-01-09</th>\n",
       "      <td>0.383929</td>\n",
       "      <td>0.385045</td>\n",
       "      <td>0.377232</td>\n",
       "      <td>0.383929</td>\n",
       "      <td>0.300327</td>\n",
       "      <td>79307200</td>\n",
       "      <td>-0.008723</td>\n",
       "    </tr>\n",
       "  </tbody>\n",
       "</table>\n",
       "</div>"
      ],
      "text/plain": [
       "                Open      High       Low     Close  Adj Close     Volume  \\\n",
       "Date                                                                       \n",
       "1989-01-03  0.359375  0.361607  0.357143  0.360491   0.281993  100016000   \n",
       "1989-01-04  0.363839  0.376116  0.361607  0.375000   0.293342  239948800   \n",
       "1989-01-05  0.375000  0.386161  0.368304  0.377232   0.295088  307328000   \n",
       "1989-01-06  0.377232  0.388393  0.377232  0.380580   0.297707  198665600   \n",
       "1989-01-09  0.383929  0.385045  0.377232  0.383929   0.300327   79307200   \n",
       "\n",
       "            Return_tomorrow  \n",
       "Date                         \n",
       "1989-01-03         0.040248  \n",
       "1989-01-04         0.005952  \n",
       "1989-01-05         0.008875  \n",
       "1989-01-06         0.008800  \n",
       "1989-01-09        -0.008723  "
      ]
     },
     "execution_count": 2,
     "metadata": {},
     "output_type": "execute_result"
    }
   ],
   "source": [
    "appl = pd.read_parquet(\"./history_data/AAPL.parquet\")\n",
    "abt = pd.read_parquet(\"./history_data/ABT.parquet\")\n",
    "appl.head()"
   ]
  },
  {
   "cell_type": "code",
   "execution_count": 3,
   "metadata": {},
   "outputs": [
    {
     "data": {
      "text/plain": [
       "(DatetimeIndex(['1989-02-01', '1989-02-02', '1989-02-03', '1989-02-06',\n",
       "                '1989-02-07'],\n",
       "               dtype='datetime64[ns]', name='Date', freq=None),\n",
       " DatetimeIndex(['2023-12-21', '2023-12-22', '2023-12-26', '2023-12-27',\n",
       "                '2023-12-28'],\n",
       "               dtype='datetime64[ns]', name='Date', freq=None))"
      ]
     },
     "execution_count": 3,
     "metadata": {},
     "output_type": "execute_result"
    }
   ],
   "source": [
    "# SP500 constituents data begins in 1989-2\n",
    "all_dates = appl.index.union(abt.index)\n",
    "all_dates = all_dates[all_dates >= dt.datetime(1989, 2, 1)]\n",
    "all_dates[:5], all_dates[-5:]"
   ]
  },
  {
   "cell_type": "markdown",
   "metadata": {},
   "source": [
    "# 2. binary matrix"
   ]
  },
  {
   "cell_type": "code",
   "execution_count": 4,
   "metadata": {},
   "outputs": [
    {
     "data": {
      "text/html": [
       "<div>\n",
       "<style scoped>\n",
       "    .dataframe tbody tr th:only-of-type {\n",
       "        vertical-align: middle;\n",
       "    }\n",
       "\n",
       "    .dataframe tbody tr th {\n",
       "        vertical-align: top;\n",
       "    }\n",
       "\n",
       "    .dataframe thead th {\n",
       "        text-align: right;\n",
       "    }\n",
       "</style>\n",
       "<table border=\"1\" class=\"dataframe\">\n",
       "  <thead>\n",
       "    <tr style=\"text-align: right;\">\n",
       "      <th>ticker</th>\n",
       "      <th>A</th>\n",
       "      <th>AAL</th>\n",
       "      <th>AAP</th>\n",
       "      <th>AAPL</th>\n",
       "      <th>ABBV</th>\n",
       "      <th>ABI</th>\n",
       "      <th>ABK</th>\n",
       "      <th>ABMD</th>\n",
       "      <th>ABNB</th>\n",
       "      <th>ABS</th>\n",
       "      <th>...</th>\n",
       "      <th>YELL</th>\n",
       "      <th>YHOO</th>\n",
       "      <th>YNR</th>\n",
       "      <th>YUM</th>\n",
       "      <th>ZBH</th>\n",
       "      <th>ZBRA</th>\n",
       "      <th>ZE</th>\n",
       "      <th>ZION</th>\n",
       "      <th>ZRN</th>\n",
       "      <th>ZTS</th>\n",
       "    </tr>\n",
       "    <tr>\n",
       "      <th>date</th>\n",
       "      <th></th>\n",
       "      <th></th>\n",
       "      <th></th>\n",
       "      <th></th>\n",
       "      <th></th>\n",
       "      <th></th>\n",
       "      <th></th>\n",
       "      <th></th>\n",
       "      <th></th>\n",
       "      <th></th>\n",
       "      <th></th>\n",
       "      <th></th>\n",
       "      <th></th>\n",
       "      <th></th>\n",
       "      <th></th>\n",
       "      <th></th>\n",
       "      <th></th>\n",
       "      <th></th>\n",
       "      <th></th>\n",
       "      <th></th>\n",
       "      <th></th>\n",
       "    </tr>\n",
       "  </thead>\n",
       "  <tbody>\n",
       "    <tr>\n",
       "      <th>1989-02-01</th>\n",
       "      <td>False</td>\n",
       "      <td>True</td>\n",
       "      <td>False</td>\n",
       "      <td>True</td>\n",
       "      <td>False</td>\n",
       "      <td>True</td>\n",
       "      <td>False</td>\n",
       "      <td>False</td>\n",
       "      <td>False</td>\n",
       "      <td>True</td>\n",
       "      <td>...</td>\n",
       "      <td>True</td>\n",
       "      <td>False</td>\n",
       "      <td>False</td>\n",
       "      <td>False</td>\n",
       "      <td>False</td>\n",
       "      <td>False</td>\n",
       "      <td>True</td>\n",
       "      <td>False</td>\n",
       "      <td>True</td>\n",
       "      <td>False</td>\n",
       "    </tr>\n",
       "    <tr>\n",
       "      <th>1989-03-01</th>\n",
       "      <td>False</td>\n",
       "      <td>True</td>\n",
       "      <td>False</td>\n",
       "      <td>True</td>\n",
       "      <td>False</td>\n",
       "      <td>True</td>\n",
       "      <td>False</td>\n",
       "      <td>False</td>\n",
       "      <td>False</td>\n",
       "      <td>True</td>\n",
       "      <td>...</td>\n",
       "      <td>True</td>\n",
       "      <td>False</td>\n",
       "      <td>False</td>\n",
       "      <td>False</td>\n",
       "      <td>False</td>\n",
       "      <td>False</td>\n",
       "      <td>True</td>\n",
       "      <td>False</td>\n",
       "      <td>True</td>\n",
       "      <td>False</td>\n",
       "    </tr>\n",
       "    <tr>\n",
       "      <th>1989-04-01</th>\n",
       "      <td>False</td>\n",
       "      <td>True</td>\n",
       "      <td>False</td>\n",
       "      <td>True</td>\n",
       "      <td>False</td>\n",
       "      <td>True</td>\n",
       "      <td>False</td>\n",
       "      <td>False</td>\n",
       "      <td>False</td>\n",
       "      <td>True</td>\n",
       "      <td>...</td>\n",
       "      <td>True</td>\n",
       "      <td>False</td>\n",
       "      <td>False</td>\n",
       "      <td>False</td>\n",
       "      <td>False</td>\n",
       "      <td>False</td>\n",
       "      <td>True</td>\n",
       "      <td>False</td>\n",
       "      <td>True</td>\n",
       "      <td>False</td>\n",
       "    </tr>\n",
       "    <tr>\n",
       "      <th>1989-05-01</th>\n",
       "      <td>False</td>\n",
       "      <td>True</td>\n",
       "      <td>False</td>\n",
       "      <td>True</td>\n",
       "      <td>False</td>\n",
       "      <td>True</td>\n",
       "      <td>False</td>\n",
       "      <td>False</td>\n",
       "      <td>False</td>\n",
       "      <td>True</td>\n",
       "      <td>...</td>\n",
       "      <td>True</td>\n",
       "      <td>False</td>\n",
       "      <td>False</td>\n",
       "      <td>False</td>\n",
       "      <td>False</td>\n",
       "      <td>False</td>\n",
       "      <td>True</td>\n",
       "      <td>False</td>\n",
       "      <td>True</td>\n",
       "      <td>False</td>\n",
       "    </tr>\n",
       "    <tr>\n",
       "      <th>1989-06-01</th>\n",
       "      <td>False</td>\n",
       "      <td>True</td>\n",
       "      <td>False</td>\n",
       "      <td>True</td>\n",
       "      <td>False</td>\n",
       "      <td>True</td>\n",
       "      <td>False</td>\n",
       "      <td>False</td>\n",
       "      <td>False</td>\n",
       "      <td>True</td>\n",
       "      <td>...</td>\n",
       "      <td>True</td>\n",
       "      <td>False</td>\n",
       "      <td>False</td>\n",
       "      <td>False</td>\n",
       "      <td>False</td>\n",
       "      <td>False</td>\n",
       "      <td>True</td>\n",
       "      <td>False</td>\n",
       "      <td>True</td>\n",
       "      <td>False</td>\n",
       "    </tr>\n",
       "  </tbody>\n",
       "</table>\n",
       "<p>5 rows × 1224 columns</p>\n",
       "</div>"
      ],
      "text/plain": [
       "ticker          A   AAL    AAP  AAPL   ABBV   ABI    ABK   ABMD   ABNB   ABS  \\\n",
       "date                                                                           \n",
       "1989-02-01  False  True  False  True  False  True  False  False  False  True   \n",
       "1989-03-01  False  True  False  True  False  True  False  False  False  True   \n",
       "1989-04-01  False  True  False  True  False  True  False  False  False  True   \n",
       "1989-05-01  False  True  False  True  False  True  False  False  False  True   \n",
       "1989-06-01  False  True  False  True  False  True  False  False  False  True   \n",
       "\n",
       "ticker      ...  YELL   YHOO    YNR    YUM    ZBH   ZBRA    ZE   ZION   ZRN  \\\n",
       "date        ...                                                               \n",
       "1989-02-01  ...  True  False  False  False  False  False  True  False  True   \n",
       "1989-03-01  ...  True  False  False  False  False  False  True  False  True   \n",
       "1989-04-01  ...  True  False  False  False  False  False  True  False  True   \n",
       "1989-05-01  ...  True  False  False  False  False  False  True  False  True   \n",
       "1989-06-01  ...  True  False  False  False  False  False  True  False  True   \n",
       "\n",
       "ticker        ZTS  \n",
       "date               \n",
       "1989-02-01  False  \n",
       "1989-03-01  False  \n",
       "1989-04-01  False  \n",
       "1989-05-01  False  \n",
       "1989-06-01  False  \n",
       "\n",
       "[5 rows x 1224 columns]"
      ]
     },
     "execution_count": 4,
     "metadata": {},
     "output_type": "execute_result"
    }
   ],
   "source": [
    "SP500_binary_matrix = pd.read_parquet(\"./stocks_list/SP500_binary_matrix.parquet\")\n",
    "SP500_binary_matrix.head()"
   ]
  },
  {
   "cell_type": "markdown",
   "metadata": {},
   "source": [
    "# 3. Test generate a dataset"
   ]
  },
  {
   "cell_type": "code",
   "execution_count": 5,
   "metadata": {},
   "outputs": [
    {
     "data": {
      "text/plain": [
       "DatetimeIndex(['1989-02-01', '1989-03-01', '1989-04-01', '1989-05-01',\n",
       "               '1989-06-01', '1989-07-01', '1989-08-01', '1989-09-01',\n",
       "               '1989-10-01', '1989-11-01'],\n",
       "              dtype='datetime64[ns]', name='Date', freq='MS')"
      ]
     },
     "execution_count": 5,
     "metadata": {},
     "output_type": "execute_result"
    }
   ],
   "source": [
    "# Test an example\n",
    "date_range = all_dates[:1000]\n",
    "uniq_months = date_range.to_period('M').unique().to_timestamp()\n",
    "uniq_months[:10]"
   ]
  },
  {
   "cell_type": "code",
   "execution_count": 6,
   "metadata": {},
   "outputs": [
    {
     "data": {
      "text/html": [
       "<div>\n",
       "<style scoped>\n",
       "    .dataframe tbody tr th:only-of-type {\n",
       "        vertical-align: middle;\n",
       "    }\n",
       "\n",
       "    .dataframe tbody tr th {\n",
       "        vertical-align: top;\n",
       "    }\n",
       "\n",
       "    .dataframe thead th {\n",
       "        text-align: right;\n",
       "    }\n",
       "</style>\n",
       "<table border=\"1\" class=\"dataframe\">\n",
       "  <thead>\n",
       "    <tr style=\"text-align: right;\">\n",
       "      <th></th>\n",
       "      <th>Open</th>\n",
       "      <th>High</th>\n",
       "      <th>Low</th>\n",
       "      <th>Close</th>\n",
       "      <th>Volume</th>\n",
       "      <th>Return_tomorrow</th>\n",
       "      <th>Stock</th>\n",
       "    </tr>\n",
       "    <tr>\n",
       "      <th>Date</th>\n",
       "      <th></th>\n",
       "      <th></th>\n",
       "      <th></th>\n",
       "      <th></th>\n",
       "      <th></th>\n",
       "      <th></th>\n",
       "      <th></th>\n",
       "    </tr>\n",
       "  </thead>\n",
       "  <tbody>\n",
       "    <tr>\n",
       "      <th>1989-02-01</th>\n",
       "      <td>0.337054</td>\n",
       "      <td>0.353795</td>\n",
       "      <td>0.333705</td>\n",
       "      <td>0.350446</td>\n",
       "      <td>487558400.0</td>\n",
       "      <td>0.012741</td>\n",
       "      <td>AAPL</td>\n",
       "    </tr>\n",
       "    <tr>\n",
       "      <th>1989-02-02</th>\n",
       "      <td>0.352679</td>\n",
       "      <td>0.359375</td>\n",
       "      <td>0.350446</td>\n",
       "      <td>0.354911</td>\n",
       "      <td>473491200.0</td>\n",
       "      <td>-0.012581</td>\n",
       "      <td>AAPL</td>\n",
       "    </tr>\n",
       "    <tr>\n",
       "      <th>1989-02-03</th>\n",
       "      <td>0.357143</td>\n",
       "      <td>0.359375</td>\n",
       "      <td>0.348214</td>\n",
       "      <td>0.350446</td>\n",
       "      <td>178908800.0</td>\n",
       "      <td>-0.019107</td>\n",
       "      <td>AAPL</td>\n",
       "    </tr>\n",
       "    <tr>\n",
       "      <th>1989-02-06</th>\n",
       "      <td>0.352679</td>\n",
       "      <td>0.352679</td>\n",
       "      <td>0.341518</td>\n",
       "      <td>0.343750</td>\n",
       "      <td>116737600.0</td>\n",
       "      <td>0.012986</td>\n",
       "      <td>AAPL</td>\n",
       "    </tr>\n",
       "    <tr>\n",
       "      <th>1989-02-07</th>\n",
       "      <td>0.341518</td>\n",
       "      <td>0.350446</td>\n",
       "      <td>0.341518</td>\n",
       "      <td>0.348214</td>\n",
       "      <td>165155200.0</td>\n",
       "      <td>-0.019230</td>\n",
       "      <td>AAPL</td>\n",
       "    </tr>\n",
       "  </tbody>\n",
       "</table>\n",
       "</div>"
      ],
      "text/plain": [
       "                Open      High       Low     Close       Volume  \\\n",
       "Date                                                              \n",
       "1989-02-01  0.337054  0.353795  0.333705  0.350446  487558400.0   \n",
       "1989-02-02  0.352679  0.359375  0.350446  0.354911  473491200.0   \n",
       "1989-02-03  0.357143  0.359375  0.348214  0.350446  178908800.0   \n",
       "1989-02-06  0.352679  0.352679  0.341518  0.343750  116737600.0   \n",
       "1989-02-07  0.341518  0.350446  0.341518  0.348214  165155200.0   \n",
       "\n",
       "            Return_tomorrow Stock  \n",
       "Date                               \n",
       "1989-02-01         0.012741  AAPL  \n",
       "1989-02-02        -0.012581  AAPL  \n",
       "1989-02-03        -0.019107  AAPL  \n",
       "1989-02-06         0.012986  AAPL  \n",
       "1989-02-07        -0.019230  AAPL  "
      ]
     },
     "execution_count": 6,
     "metadata": {},
     "output_type": "execute_result"
    }
   ],
   "source": [
    "stock_dates = {}\n",
    "\n",
    "# iterate through each month\n",
    "for month, stocks in SP500_binary_matrix.loc[uniq_months].iterrows():\n",
    "    # all trading dates in the month\n",
    "    month_dates = date_range[date_range.to_period('M') == month.to_period('M')]\n",
    "    \n",
    "    # iterate through all stocks\n",
    "    for stock in stocks.index[stocks]:\n",
    "        if stock not in stock_dates:\n",
    "            stock_dates[stock] = []\n",
    "        # add the month dates to the stock's dates\n",
    "        stock_dates[stock].extend(month_dates)\n",
    "\n",
    "# store the result\n",
    "result_df = pd.DataFrame()\n",
    "\n",
    "# read the stock data and select the dates\n",
    "for stock, dates in stock_dates.items():\n",
    "    # check if the stock data exists\n",
    "    if not os.path.exists(f'./history_data/{stock}.parquet'):\n",
    "        continue\n",
    "    \n",
    "    # read the stock data\n",
    "    stock_data = pd.read_parquet(f'./history_data/{stock}.parquet')\n",
    "\n",
    "    # drop Adj Close column if it exists\n",
    "    stock_data = stock_data.drop(columns=['Adj Close'], errors='ignore')\n",
    "    \n",
    "    # select the stock data in the dates\n",
    "    selected_data = stock_data.loc[stock_data.index.intersection(dates)]\n",
    "    \n",
    "    # add stock name\n",
    "    selected_data['Stock'] = stock\n",
    "    \n",
    "    # add the stock data to the result\n",
    "    result_df = pd.concat([result_df, selected_data])\n",
    "\n",
    "# check the result\n",
    "result_df.head()"
   ]
  },
  {
   "cell_type": "code",
   "execution_count": 7,
   "metadata": {},
   "outputs": [
    {
     "data": {
      "text/html": [
       "<div>\n",
       "<style scoped>\n",
       "    .dataframe tbody tr th:only-of-type {\n",
       "        vertical-align: middle;\n",
       "    }\n",
       "\n",
       "    .dataframe tbody tr th {\n",
       "        vertical-align: top;\n",
       "    }\n",
       "\n",
       "    .dataframe thead th {\n",
       "        text-align: right;\n",
       "    }\n",
       "</style>\n",
       "<table border=\"1\" class=\"dataframe\">\n",
       "  <thead>\n",
       "    <tr style=\"text-align: right;\">\n",
       "      <th></th>\n",
       "      <th>Open</th>\n",
       "      <th>High</th>\n",
       "      <th>Low</th>\n",
       "      <th>Close</th>\n",
       "      <th>Volume</th>\n",
       "      <th>Return_tomorrow</th>\n",
       "    </tr>\n",
       "    <tr>\n",
       "      <th>Stock</th>\n",
       "      <th></th>\n",
       "      <th></th>\n",
       "      <th></th>\n",
       "      <th></th>\n",
       "      <th></th>\n",
       "      <th></th>\n",
       "    </tr>\n",
       "  </thead>\n",
       "  <tbody>\n",
       "    <tr>\n",
       "      <th>AAPL</th>\n",
       "      <td>1000</td>\n",
       "      <td>1000</td>\n",
       "      <td>1000</td>\n",
       "      <td>1000</td>\n",
       "      <td>1000</td>\n",
       "      <td>1000</td>\n",
       "    </tr>\n",
       "    <tr>\n",
       "      <th>ABT</th>\n",
       "      <td>1000</td>\n",
       "      <td>1000</td>\n",
       "      <td>1000</td>\n",
       "      <td>1000</td>\n",
       "      <td>1000</td>\n",
       "      <td>1000</td>\n",
       "    </tr>\n",
       "    <tr>\n",
       "      <th>ADM</th>\n",
       "      <td>1000</td>\n",
       "      <td>1000</td>\n",
       "      <td>1000</td>\n",
       "      <td>1000</td>\n",
       "      <td>1000</td>\n",
       "      <td>1000</td>\n",
       "    </tr>\n",
       "    <tr>\n",
       "      <th>ADP</th>\n",
       "      <td>1000</td>\n",
       "      <td>1000</td>\n",
       "      <td>1000</td>\n",
       "      <td>1000</td>\n",
       "      <td>1000</td>\n",
       "      <td>1000</td>\n",
       "    </tr>\n",
       "    <tr>\n",
       "      <th>ADSK</th>\n",
       "      <td>769</td>\n",
       "      <td>769</td>\n",
       "      <td>769</td>\n",
       "      <td>769</td>\n",
       "      <td>769</td>\n",
       "      <td>769</td>\n",
       "    </tr>\n",
       "    <tr>\n",
       "      <th>...</th>\n",
       "      <td>...</td>\n",
       "      <td>...</td>\n",
       "      <td>...</td>\n",
       "      <td>...</td>\n",
       "      <td>...</td>\n",
       "      <td>...</td>\n",
       "    </tr>\n",
       "    <tr>\n",
       "      <th>WY</th>\n",
       "      <td>1000</td>\n",
       "      <td>1000</td>\n",
       "      <td>1000</td>\n",
       "      <td>1000</td>\n",
       "      <td>1000</td>\n",
       "      <td>1000</td>\n",
       "    </tr>\n",
       "    <tr>\n",
       "      <th>X</th>\n",
       "      <td>411</td>\n",
       "      <td>411</td>\n",
       "      <td>411</td>\n",
       "      <td>411</td>\n",
       "      <td>411</td>\n",
       "      <td>411</td>\n",
       "    </tr>\n",
       "    <tr>\n",
       "      <th>XEL</th>\n",
       "      <td>1000</td>\n",
       "      <td>1000</td>\n",
       "      <td>1000</td>\n",
       "      <td>1000</td>\n",
       "      <td>1000</td>\n",
       "      <td>1000</td>\n",
       "    </tr>\n",
       "    <tr>\n",
       "      <th>XOM</th>\n",
       "      <td>1000</td>\n",
       "      <td>1000</td>\n",
       "      <td>1000</td>\n",
       "      <td>1000</td>\n",
       "      <td>1000</td>\n",
       "      <td>1000</td>\n",
       "    </tr>\n",
       "    <tr>\n",
       "      <th>XRX</th>\n",
       "      <td>1000</td>\n",
       "      <td>1000</td>\n",
       "      <td>1000</td>\n",
       "      <td>1000</td>\n",
       "      <td>1000</td>\n",
       "      <td>1000</td>\n",
       "    </tr>\n",
       "  </tbody>\n",
       "</table>\n",
       "<p>209 rows × 6 columns</p>\n",
       "</div>"
      ],
      "text/plain": [
       "       Open  High   Low  Close  Volume  Return_tomorrow\n",
       "Stock                                                  \n",
       "AAPL   1000  1000  1000   1000    1000             1000\n",
       "ABT    1000  1000  1000   1000    1000             1000\n",
       "ADM    1000  1000  1000   1000    1000             1000\n",
       "ADP    1000  1000  1000   1000    1000             1000\n",
       "ADSK    769   769   769    769     769              769\n",
       "...     ...   ...   ...    ...     ...              ...\n",
       "WY     1000  1000  1000   1000    1000             1000\n",
       "X       411   411   411    411     411              411\n",
       "XEL    1000  1000  1000   1000    1000             1000\n",
       "XOM    1000  1000  1000   1000    1000             1000\n",
       "XRX    1000  1000  1000   1000    1000             1000\n",
       "\n",
       "[209 rows x 6 columns]"
      ]
     },
     "execution_count": 7,
     "metadata": {},
     "output_type": "execute_result"
    }
   ],
   "source": [
    "result_df.groupby('Stock').count()"
   ]
  },
  {
   "cell_type": "markdown",
   "metadata": {},
   "source": [
    "# 4. Generate all datasets"
   ]
  },
  {
   "cell_type": "code",
   "execution_count": 8,
   "metadata": {},
   "outputs": [
    {
     "data": {
      "text/html": [
       "<div>\n",
       "<style scoped>\n",
       "    .dataframe tbody tr th:only-of-type {\n",
       "        vertical-align: middle;\n",
       "    }\n",
       "\n",
       "    .dataframe tbody tr th {\n",
       "        vertical-align: top;\n",
       "    }\n",
       "\n",
       "    .dataframe thead th {\n",
       "        text-align: right;\n",
       "    }\n",
       "</style>\n",
       "<table border=\"1\" class=\"dataframe\">\n",
       "  <thead>\n",
       "    <tr style=\"text-align: right;\">\n",
       "      <th></th>\n",
       "      <th>Open</th>\n",
       "      <th>High</th>\n",
       "      <th>Low</th>\n",
       "      <th>Close</th>\n",
       "      <th>Volume</th>\n",
       "      <th>Return_tomorrow</th>\n",
       "      <th>Stock</th>\n",
       "    </tr>\n",
       "    <tr>\n",
       "      <th>Date</th>\n",
       "      <th></th>\n",
       "      <th></th>\n",
       "      <th></th>\n",
       "      <th></th>\n",
       "      <th></th>\n",
       "      <th></th>\n",
       "      <th></th>\n",
       "    </tr>\n",
       "  </thead>\n",
       "  <tbody>\n",
       "    <tr>\n",
       "      <th>1989-02-01</th>\n",
       "      <td>0.337054</td>\n",
       "      <td>0.353795</td>\n",
       "      <td>0.333705</td>\n",
       "      <td>0.350446</td>\n",
       "      <td>487558400.0</td>\n",
       "      <td>0.012741</td>\n",
       "      <td>AAPL</td>\n",
       "    </tr>\n",
       "    <tr>\n",
       "      <th>1989-02-02</th>\n",
       "      <td>0.352679</td>\n",
       "      <td>0.359375</td>\n",
       "      <td>0.350446</td>\n",
       "      <td>0.354911</td>\n",
       "      <td>473491200.0</td>\n",
       "      <td>-0.012581</td>\n",
       "      <td>AAPL</td>\n",
       "    </tr>\n",
       "    <tr>\n",
       "      <th>1989-02-03</th>\n",
       "      <td>0.357143</td>\n",
       "      <td>0.359375</td>\n",
       "      <td>0.348214</td>\n",
       "      <td>0.350446</td>\n",
       "      <td>178908800.0</td>\n",
       "      <td>-0.019107</td>\n",
       "      <td>AAPL</td>\n",
       "    </tr>\n",
       "    <tr>\n",
       "      <th>1989-02-06</th>\n",
       "      <td>0.352679</td>\n",
       "      <td>0.352679</td>\n",
       "      <td>0.341518</td>\n",
       "      <td>0.343750</td>\n",
       "      <td>116737600.0</td>\n",
       "      <td>0.012986</td>\n",
       "      <td>AAPL</td>\n",
       "    </tr>\n",
       "    <tr>\n",
       "      <th>1989-02-07</th>\n",
       "      <td>0.341518</td>\n",
       "      <td>0.350446</td>\n",
       "      <td>0.341518</td>\n",
       "      <td>0.348214</td>\n",
       "      <td>165155200.0</td>\n",
       "      <td>-0.019230</td>\n",
       "      <td>AAPL</td>\n",
       "    </tr>\n",
       "  </tbody>\n",
       "</table>\n",
       "</div>"
      ],
      "text/plain": [
       "                Open      High       Low     Close       Volume  \\\n",
       "Date                                                              \n",
       "1989-02-01  0.337054  0.353795  0.333705  0.350446  487558400.0   \n",
       "1989-02-02  0.352679  0.359375  0.350446  0.354911  473491200.0   \n",
       "1989-02-03  0.357143  0.359375  0.348214  0.350446  178908800.0   \n",
       "1989-02-06  0.352679  0.352679  0.341518  0.343750  116737600.0   \n",
       "1989-02-07  0.341518  0.350446  0.341518  0.348214  165155200.0   \n",
       "\n",
       "            Return_tomorrow Stock  \n",
       "Date                               \n",
       "1989-02-01         0.012741  AAPL  \n",
       "1989-02-02        -0.012581  AAPL  \n",
       "1989-02-03        -0.019107  AAPL  \n",
       "1989-02-06         0.012986  AAPL  \n",
       "1989-02-07        -0.019230  AAPL  "
      ]
     },
     "execution_count": 8,
     "metadata": {},
     "output_type": "execute_result"
    }
   ],
   "source": [
    "def generate_single_dataset(date_range):\n",
    "    # unique months\n",
    "    uniq_months = date_range.to_period('M').unique().to_timestamp()\n",
    "\n",
    "    # stock - dates dict, store the trading dates for each stock while it is in the S&P 500\n",
    "    stock_dates = {}\n",
    "\n",
    "    # iterate through each month\n",
    "    for month, stocks in SP500_binary_matrix.loc[uniq_months].iterrows():\n",
    "        # all trading dates in the month\n",
    "        month_dates = date_range[date_range.to_period('M') == month.to_period('M')]\n",
    "\n",
    "        # iterate through all stocks\n",
    "        for stock in stocks.index[stocks]:\n",
    "            if stock not in stock_dates:\n",
    "                stock_dates[stock] = []\n",
    "            # add the month dates to the stock's dates\n",
    "            stock_dates[stock].extend(month_dates)\n",
    "    \n",
    "    # store the result\n",
    "    result_df = pd.DataFrame()\n",
    "\n",
    "    # read the stock data and select the dates\n",
    "    for stock, dates in stock_dates.items():\n",
    "        # check if the stock data exists\n",
    "        if not os.path.exists(f'./history_data/{stock}.parquet'):\n",
    "            continue\n",
    "\n",
    "        # read the stock data\n",
    "        stock_data = pd.read_parquet(f'./history_data/{stock}.parquet')\n",
    "\n",
    "        # drop Adj Close column if it exists\n",
    "        stock_data = stock_data.drop(columns=['Adj Close'], errors='ignore')\n",
    "\n",
    "        # select the stock data in the dates\n",
    "        selected_data = stock_data.loc[stock_data.index.intersection(dates)]\n",
    "\n",
    "        # add stock name\n",
    "        selected_data['Stock'] = stock\n",
    "\n",
    "        # add the stock data to the result\n",
    "        result_df = pd.concat([result_df, selected_data])\n",
    "    \n",
    "    return result_df\n",
    "\n",
    "# example\n",
    "date_range = all_dates[:1000]\n",
    "result_df = generate_single_dataset(date_range)\n",
    "result_df.head()"
   ]
  },
  {
   "cell_type": "code",
   "execution_count": 9,
   "metadata": {},
   "outputs": [
    {
     "data": {
      "text/html": [
       "<div>\n",
       "<style scoped>\n",
       "    .dataframe tbody tr th:only-of-type {\n",
       "        vertical-align: middle;\n",
       "    }\n",
       "\n",
       "    .dataframe tbody tr th {\n",
       "        vertical-align: top;\n",
       "    }\n",
       "\n",
       "    .dataframe thead th {\n",
       "        text-align: right;\n",
       "    }\n",
       "</style>\n",
       "<table border=\"1\" class=\"dataframe\">\n",
       "  <thead>\n",
       "    <tr style=\"text-align: right;\">\n",
       "      <th></th>\n",
       "      <th>Open</th>\n",
       "      <th>High</th>\n",
       "      <th>Low</th>\n",
       "      <th>Close</th>\n",
       "      <th>Volume</th>\n",
       "      <th>Return_tomorrow</th>\n",
       "    </tr>\n",
       "    <tr>\n",
       "      <th>Stock</th>\n",
       "      <th></th>\n",
       "      <th></th>\n",
       "      <th></th>\n",
       "      <th></th>\n",
       "      <th></th>\n",
       "      <th></th>\n",
       "    </tr>\n",
       "  </thead>\n",
       "  <tbody>\n",
       "    <tr>\n",
       "      <th>AAPL</th>\n",
       "      <td>1000</td>\n",
       "      <td>1000</td>\n",
       "      <td>1000</td>\n",
       "      <td>1000</td>\n",
       "      <td>1000</td>\n",
       "      <td>1000</td>\n",
       "    </tr>\n",
       "    <tr>\n",
       "      <th>ABT</th>\n",
       "      <td>1000</td>\n",
       "      <td>1000</td>\n",
       "      <td>1000</td>\n",
       "      <td>1000</td>\n",
       "      <td>1000</td>\n",
       "      <td>1000</td>\n",
       "    </tr>\n",
       "    <tr>\n",
       "      <th>ADM</th>\n",
       "      <td>1000</td>\n",
       "      <td>1000</td>\n",
       "      <td>1000</td>\n",
       "      <td>1000</td>\n",
       "      <td>1000</td>\n",
       "      <td>1000</td>\n",
       "    </tr>\n",
       "    <tr>\n",
       "      <th>ADP</th>\n",
       "      <td>1000</td>\n",
       "      <td>1000</td>\n",
       "      <td>1000</td>\n",
       "      <td>1000</td>\n",
       "      <td>1000</td>\n",
       "      <td>1000</td>\n",
       "    </tr>\n",
       "    <tr>\n",
       "      <th>ADSK</th>\n",
       "      <td>769</td>\n",
       "      <td>769</td>\n",
       "      <td>769</td>\n",
       "      <td>769</td>\n",
       "      <td>769</td>\n",
       "      <td>769</td>\n",
       "    </tr>\n",
       "  </tbody>\n",
       "</table>\n",
       "</div>"
      ],
      "text/plain": [
       "       Open  High   Low  Close  Volume  Return_tomorrow\n",
       "Stock                                                  \n",
       "AAPL   1000  1000  1000   1000    1000             1000\n",
       "ABT    1000  1000  1000   1000    1000             1000\n",
       "ADM    1000  1000  1000   1000    1000             1000\n",
       "ADP    1000  1000  1000   1000    1000             1000\n",
       "ADSK    769   769   769    769     769              769"
      ]
     },
     "execution_count": 9,
     "metadata": {},
     "output_type": "execute_result"
    }
   ],
   "source": [
    "result_df.groupby('Stock').count().head()"
   ]
  },
  {
   "cell_type": "code",
   "execution_count": 10,
   "metadata": {},
   "outputs": [
    {
     "name": "stdout",
     "output_type": "stream",
     "text": [
      "8795\n",
      "8750\n"
     ]
    }
   ],
   "source": [
    "# generate all date_ranges\n",
    "print(len(all_dates))\n",
    "\n",
    "# drop some dates at the begining to make the number of dates dividable by 250\n",
    "n_drop = len(all_dates) % 250\n",
    "if n_drop != 0:\n",
    "    all_dates = all_dates[n_drop:]\n",
    "\n",
    "print(len(all_dates))"
   ]
  },
  {
   "cell_type": "code",
   "execution_count": 11,
   "metadata": {},
   "outputs": [
    {
     "data": {
      "text/plain": [
       "DatetimeIndex(['1989-04-07', '1989-04-10', '1989-04-11', '1989-04-12',\n",
       "               '1989-04-13', '1989-04-14', '1989-04-17', '1989-04-18',\n",
       "               '1989-04-19', '1989-04-20',\n",
       "               ...\n",
       "               '1993-03-08', '1993-03-09', '1993-03-10', '1993-03-11',\n",
       "               '1993-03-12', '1993-03-15', '1993-03-16', '1993-03-17',\n",
       "               '1993-03-18', '1993-03-19'],\n",
       "              dtype='datetime64[ns]', name='Date', length=1000, freq=None)"
      ]
     },
     "execution_count": 11,
     "metadata": {},
     "output_type": "execute_result"
    }
   ],
   "source": [
    "# generate date_ranges, each with length 1000 and step 250\n",
    "ranges = []\n",
    "for start in range(0, len(all_dates) - 1000 + 1, 250):\n",
    "    end = start + 1000\n",
    "    ranges.append(all_dates[start:end])\n",
    "ranges[0]"
   ]
  },
  {
   "cell_type": "code",
   "execution_count": 12,
   "metadata": {},
   "outputs": [],
   "source": [
    "save_path = \"./single_period_data\"\n",
    "if not os.path.exists(save_path):\n",
    "    os.makedirs(save_path)"
   ]
  },
  {
   "cell_type": "code",
   "execution_count": 13,
   "metadata": {},
   "outputs": [
    {
     "name": "stderr",
     "output_type": "stream",
     "text": [
      "  0%|          | 0/32 [00:00<?, ?it/s]"
     ]
    },
    {
     "name": "stdout",
     "output_type": "stream",
     "text": [
      "Processing date range 0\n"
     ]
    },
    {
     "name": "stderr",
     "output_type": "stream",
     "text": [
      "  3%|▎         | 1/32 [00:10<05:13, 10.13s/it]"
     ]
    },
    {
     "name": "stdout",
     "output_type": "stream",
     "text": [
      "Processing date range 1\n"
     ]
    },
    {
     "name": "stderr",
     "output_type": "stream",
     "text": [
      "  6%|▋         | 2/32 [00:19<04:57,  9.92s/it]"
     ]
    },
    {
     "name": "stdout",
     "output_type": "stream",
     "text": [
      "Processing date range 2\n"
     ]
    },
    {
     "name": "stderr",
     "output_type": "stream",
     "text": [
      "  9%|▉         | 3/32 [00:29<04:43,  9.78s/it]"
     ]
    },
    {
     "name": "stdout",
     "output_type": "stream",
     "text": [
      "Processing date range 3\n"
     ]
    },
    {
     "name": "stderr",
     "output_type": "stream",
     "text": [
      " 12%|█▎        | 4/32 [00:39<04:37,  9.90s/it]"
     ]
    },
    {
     "name": "stdout",
     "output_type": "stream",
     "text": [
      "Processing date range 4\n"
     ]
    },
    {
     "name": "stderr",
     "output_type": "stream",
     "text": [
      " 16%|█▌        | 5/32 [00:49<04:28,  9.96s/it]"
     ]
    },
    {
     "name": "stdout",
     "output_type": "stream",
     "text": [
      "Processing date range 5\n"
     ]
    },
    {
     "name": "stderr",
     "output_type": "stream",
     "text": [
      " 19%|█▉        | 6/32 [01:00<04:23, 10.15s/it]"
     ]
    },
    {
     "name": "stdout",
     "output_type": "stream",
     "text": [
      "Processing date range 6\n"
     ]
    },
    {
     "name": "stderr",
     "output_type": "stream",
     "text": [
      " 22%|██▏       | 7/32 [01:11<04:20, 10.44s/it]"
     ]
    },
    {
     "name": "stdout",
     "output_type": "stream",
     "text": [
      "Processing date range 7\n"
     ]
    },
    {
     "name": "stderr",
     "output_type": "stream",
     "text": [
      " 25%|██▌       | 8/32 [01:22<04:18, 10.78s/it]"
     ]
    },
    {
     "name": "stdout",
     "output_type": "stream",
     "text": [
      "Processing date range 8\n"
     ]
    },
    {
     "name": "stderr",
     "output_type": "stream",
     "text": [
      " 28%|██▊       | 9/32 [01:34<04:15, 11.13s/it]"
     ]
    },
    {
     "name": "stdout",
     "output_type": "stream",
     "text": [
      "Processing date range 9\n"
     ]
    },
    {
     "name": "stderr",
     "output_type": "stream",
     "text": [
      " 31%|███▏      | 10/32 [01:46<04:12, 11.48s/it]"
     ]
    },
    {
     "name": "stdout",
     "output_type": "stream",
     "text": [
      "Processing date range 10\n"
     ]
    },
    {
     "name": "stderr",
     "output_type": "stream",
     "text": [
      " 34%|███▍      | 11/32 [01:58<04:03, 11.62s/it]"
     ]
    },
    {
     "name": "stdout",
     "output_type": "stream",
     "text": [
      "Processing date range 11\n"
     ]
    },
    {
     "name": "stderr",
     "output_type": "stream",
     "text": [
      " 38%|███▊      | 12/32 [02:10<03:52, 11.65s/it]"
     ]
    },
    {
     "name": "stdout",
     "output_type": "stream",
     "text": [
      "Processing date range 12\n"
     ]
    },
    {
     "name": "stderr",
     "output_type": "stream",
     "text": [
      " 41%|████      | 13/32 [02:22<03:40, 11.59s/it]"
     ]
    },
    {
     "name": "stdout",
     "output_type": "stream",
     "text": [
      "Processing date range 13\n"
     ]
    },
    {
     "name": "stderr",
     "output_type": "stream",
     "text": [
      " 44%|████▍     | 14/32 [02:33<03:28, 11.56s/it]"
     ]
    },
    {
     "name": "stdout",
     "output_type": "stream",
     "text": [
      "Processing date range 14\n"
     ]
    },
    {
     "name": "stderr",
     "output_type": "stream",
     "text": [
      " 47%|████▋     | 15/32 [02:45<03:18, 11.66s/it]"
     ]
    },
    {
     "name": "stdout",
     "output_type": "stream",
     "text": [
      "Processing date range 15\n"
     ]
    },
    {
     "name": "stderr",
     "output_type": "stream",
     "text": [
      " 50%|█████     | 16/32 [02:57<03:10, 11.88s/it]"
     ]
    },
    {
     "name": "stdout",
     "output_type": "stream",
     "text": [
      "Processing date range 16\n"
     ]
    },
    {
     "name": "stderr",
     "output_type": "stream",
     "text": [
      " 53%|█████▎    | 17/32 [03:10<03:03, 12.22s/it]"
     ]
    },
    {
     "name": "stdout",
     "output_type": "stream",
     "text": [
      "Processing date range 17\n"
     ]
    },
    {
     "name": "stderr",
     "output_type": "stream",
     "text": [
      " 56%|█████▋    | 18/32 [03:24<02:55, 12.52s/it]"
     ]
    },
    {
     "name": "stdout",
     "output_type": "stream",
     "text": [
      "Processing date range 18\n"
     ]
    },
    {
     "name": "stderr",
     "output_type": "stream",
     "text": [
      " 59%|█████▉    | 19/32 [03:37<02:44, 12.68s/it]"
     ]
    },
    {
     "name": "stdout",
     "output_type": "stream",
     "text": [
      "Processing date range 19\n"
     ]
    },
    {
     "name": "stderr",
     "output_type": "stream",
     "text": [
      " 62%|██████▎   | 20/32 [03:49<02:32, 12.73s/it]"
     ]
    },
    {
     "name": "stdout",
     "output_type": "stream",
     "text": [
      "Processing date range 20\n"
     ]
    },
    {
     "name": "stderr",
     "output_type": "stream",
     "text": [
      " 66%|██████▌   | 21/32 [04:02<02:19, 12.71s/it]"
     ]
    },
    {
     "name": "stdout",
     "output_type": "stream",
     "text": [
      "Processing date range 21\n"
     ]
    },
    {
     "name": "stderr",
     "output_type": "stream",
     "text": [
      " 69%|██████▉   | 22/32 [04:15<02:07, 12.73s/it]"
     ]
    },
    {
     "name": "stdout",
     "output_type": "stream",
     "text": [
      "Processing date range 22\n"
     ]
    },
    {
     "name": "stderr",
     "output_type": "stream",
     "text": [
      " 72%|███████▏  | 23/32 [04:28<01:55, 12.79s/it]"
     ]
    },
    {
     "name": "stdout",
     "output_type": "stream",
     "text": [
      "Processing date range 23\n"
     ]
    },
    {
     "name": "stderr",
     "output_type": "stream",
     "text": [
      " 75%|███████▌  | 24/32 [04:41<01:43, 12.92s/it]"
     ]
    },
    {
     "name": "stdout",
     "output_type": "stream",
     "text": [
      "Processing date range 24\n"
     ]
    },
    {
     "name": "stderr",
     "output_type": "stream",
     "text": [
      " 78%|███████▊  | 25/32 [04:55<01:31, 13.14s/it]"
     ]
    },
    {
     "name": "stdout",
     "output_type": "stream",
     "text": [
      "Processing date range 25\n"
     ]
    },
    {
     "name": "stderr",
     "output_type": "stream",
     "text": [
      " 81%|████████▏ | 26/32 [05:09<01:20, 13.36s/it]"
     ]
    },
    {
     "name": "stdout",
     "output_type": "stream",
     "text": [
      "Processing date range 26\n"
     ]
    },
    {
     "name": "stderr",
     "output_type": "stream",
     "text": [
      " 84%|████████▍ | 27/32 [05:23<01:07, 13.55s/it]"
     ]
    },
    {
     "name": "stdout",
     "output_type": "stream",
     "text": [
      "Processing date range 27\n"
     ]
    },
    {
     "name": "stderr",
     "output_type": "stream",
     "text": [
      " 88%|████████▊ | 28/32 [05:37<00:55, 13.76s/it]"
     ]
    },
    {
     "name": "stdout",
     "output_type": "stream",
     "text": [
      "Processing date range 28\n"
     ]
    },
    {
     "name": "stderr",
     "output_type": "stream",
     "text": [
      " 91%|█████████ | 29/32 [05:51<00:41, 13.90s/it]"
     ]
    },
    {
     "name": "stdout",
     "output_type": "stream",
     "text": [
      "Processing date range 29\n"
     ]
    },
    {
     "name": "stderr",
     "output_type": "stream",
     "text": [
      " 94%|█████████▍| 30/32 [06:05<00:27, 13.95s/it]"
     ]
    },
    {
     "name": "stdout",
     "output_type": "stream",
     "text": [
      "Processing date range 30\n"
     ]
    },
    {
     "name": "stderr",
     "output_type": "stream",
     "text": [
      " 97%|█████████▋| 31/32 [06:19<00:13, 13.94s/it]"
     ]
    },
    {
     "name": "stdout",
     "output_type": "stream",
     "text": [
      "Processing date range 31\n"
     ]
    },
    {
     "name": "stderr",
     "output_type": "stream",
     "text": [
      "100%|██████████| 32/32 [06:33<00:00, 12.29s/it]\n"
     ]
    }
   ],
   "source": [
    "from tqdm import tqdm\n",
    "\n",
    "stock_number = {}\n",
    "\n",
    "for i, date_range in tqdm(enumerate(ranges), total=len(ranges)):\n",
    "    tqdm.write(f\"Processing date range {i}\")\n",
    "    result_df = generate_single_dataset(date_range)\n",
    "    stock_number[i] = result_df[\"Stock\"].nunique()\n",
    "    result_df.to_parquet(os.path.join(save_path, f\"period_{i}.parquet\"))"
   ]
  },
  {
   "cell_type": "code",
   "execution_count": 16,
   "metadata": {},
   "outputs": [
    {
     "data": {
      "text/html": [
       "<div>\n",
       "<style scoped>\n",
       "    .dataframe tbody tr th:only-of-type {\n",
       "        vertical-align: middle;\n",
       "    }\n",
       "\n",
       "    .dataframe tbody tr th {\n",
       "        vertical-align: top;\n",
       "    }\n",
       "\n",
       "    .dataframe thead th {\n",
       "        text-align: right;\n",
       "    }\n",
       "</style>\n",
       "<table border=\"1\" class=\"dataframe\">\n",
       "  <thead>\n",
       "    <tr style=\"text-align: right;\">\n",
       "      <th></th>\n",
       "      <th>Open</th>\n",
       "      <th>High</th>\n",
       "      <th>Low</th>\n",
       "      <th>Close</th>\n",
       "      <th>Volume</th>\n",
       "      <th>Return_tomorrow</th>\n",
       "      <th>Stock</th>\n",
       "    </tr>\n",
       "    <tr>\n",
       "      <th>Date</th>\n",
       "      <th></th>\n",
       "      <th></th>\n",
       "      <th></th>\n",
       "      <th></th>\n",
       "      <th></th>\n",
       "      <th></th>\n",
       "      <th></th>\n",
       "    </tr>\n",
       "  </thead>\n",
       "  <tbody>\n",
       "    <tr>\n",
       "      <th>2020-01-09</th>\n",
       "      <td>86.459999</td>\n",
       "      <td>87.699997</td>\n",
       "      <td>86.169998</td>\n",
       "      <td>87.269997</td>\n",
       "      <td>1912700.0</td>\n",
       "      <td>0.003667</td>\n",
       "      <td>A</td>\n",
       "    </tr>\n",
       "    <tr>\n",
       "      <th>2020-01-10</th>\n",
       "      <td>87.720001</td>\n",
       "      <td>88.239998</td>\n",
       "      <td>87.320000</td>\n",
       "      <td>87.589996</td>\n",
       "      <td>1417000.0</td>\n",
       "      <td>-0.001484</td>\n",
       "      <td>A</td>\n",
       "    </tr>\n",
       "    <tr>\n",
       "      <th>2020-01-13</th>\n",
       "      <td>87.809998</td>\n",
       "      <td>88.320000</td>\n",
       "      <td>86.739998</td>\n",
       "      <td>87.459999</td>\n",
       "      <td>1630200.0</td>\n",
       "      <td>0.006060</td>\n",
       "      <td>A</td>\n",
       "    </tr>\n",
       "    <tr>\n",
       "      <th>2020-01-14</th>\n",
       "      <td>87.269997</td>\n",
       "      <td>88.209999</td>\n",
       "      <td>86.699997</td>\n",
       "      <td>87.989998</td>\n",
       "      <td>1675200.0</td>\n",
       "      <td>0.007160</td>\n",
       "      <td>A</td>\n",
       "    </tr>\n",
       "    <tr>\n",
       "      <th>2020-01-15</th>\n",
       "      <td>87.629997</td>\n",
       "      <td>89.110001</td>\n",
       "      <td>87.550003</td>\n",
       "      <td>88.620003</td>\n",
       "      <td>1630400.0</td>\n",
       "      <td>0.009479</td>\n",
       "      <td>A</td>\n",
       "    </tr>\n",
       "  </tbody>\n",
       "</table>\n",
       "</div>"
      ],
      "text/plain": [
       "                 Open       High        Low      Close     Volume  \\\n",
       "Date                                                                \n",
       "2020-01-09  86.459999  87.699997  86.169998  87.269997  1912700.0   \n",
       "2020-01-10  87.720001  88.239998  87.320000  87.589996  1417000.0   \n",
       "2020-01-13  87.809998  88.320000  86.739998  87.459999  1630200.0   \n",
       "2020-01-14  87.269997  88.209999  86.699997  87.989998  1675200.0   \n",
       "2020-01-15  87.629997  89.110001  87.550003  88.620003  1630400.0   \n",
       "\n",
       "            Return_tomorrow Stock  \n",
       "Date                               \n",
       "2020-01-09         0.003667     A  \n",
       "2020-01-10        -0.001484     A  \n",
       "2020-01-13         0.006060     A  \n",
       "2020-01-14         0.007160     A  \n",
       "2020-01-15         0.009479     A  "
      ]
     },
     "execution_count": 16,
     "metadata": {},
     "output_type": "execute_result"
    }
   ],
   "source": [
    "result_df.head()"
   ]
  },
  {
   "cell_type": "code",
   "execution_count": 18,
   "metadata": {},
   "outputs": [
    {
     "data": {
      "text/plain": [
       "0     210\n",
       "1     216\n",
       "2     223\n",
       "3     240\n",
       "4     253\n",
       "5     275\n",
       "6     290\n",
       "7     317\n",
       "8     342\n",
       "9     353\n",
       "10    362\n",
       "11    366\n",
       "12    368\n",
       "13    378\n",
       "14    395\n",
       "15    428\n",
       "16    456\n",
       "17    476\n",
       "18    479\n",
       "19    480\n",
       "20    481\n",
       "21    489\n",
       "22    497\n",
       "23    511\n",
       "24    531\n",
       "25    543\n",
       "26    557\n",
       "27    571\n",
       "28    576\n",
       "29    570\n",
       "30    565\n",
       "31    561\n",
       "dtype: int64"
      ]
     },
     "execution_count": 18,
     "metadata": {},
     "output_type": "execute_result"
    }
   ],
   "source": [
    "pd.Series(stock_number)"
   ]
  },
  {
   "cell_type": "code",
   "execution_count": null,
   "metadata": {},
   "outputs": [],
   "source": []
  }
 ],
 "metadata": {
  "kernelspec": {
   "display_name": "base",
   "language": "python",
   "name": "python3"
  },
  "language_info": {
   "codemirror_mode": {
    "name": "ipython",
    "version": 3
   },
   "file_extension": ".py",
   "mimetype": "text/x-python",
   "name": "python",
   "nbconvert_exporter": "python",
   "pygments_lexer": "ipython3",
   "version": "3.11.5"
  },
  "orig_nbformat": 4
 },
 "nbformat": 4,
 "nbformat_minor": 2
}
