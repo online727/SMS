{
 "cells": [
  {
   "cell_type": "code",
   "execution_count": 1,
   "metadata": {},
   "outputs": [],
   "source": [
    "import pandas as pd\n",
    "from sklearn.ensemble import RandomForestClassifier\n",
    "from sklearn.metrics import accuracy_score, f1_score, precision_score, recall_score, roc_auc_score\n",
    "\n",
    "import os\n",
    "from joblib import dump\n",
    "\n",
    "save_path = \"./result/rf\"\n",
    "model_path = \"./data/model_data/models/rf\"\n",
    "os.makedirs(save_path, exist_ok=True)\n",
    "os.makedirs(model_path, exist_ok=True)"
   ]
  },
  {
   "cell_type": "code",
   "execution_count": 2,
   "metadata": {},
   "outputs": [],
   "source": [
    "feature_path = \"./data/model_data/period_features\"\n",
    "\n",
    "def load_feature(num_period: int, feature_path: str = feature_path) -> pd.DataFrame:\n",
    "    data = pd.read_parquet(f\"{feature_path}/features_period_{num_period}.parquet\")\n",
    "\n",
    "    date_range = data[\"Date\"].sort_values().unique()\n",
    "    data = data.set_index(\"Date\")\n",
    "\n",
    "    train_data = data.loc[date_range[:-250]]\n",
    "    test_data = data.loc[date_range[-250:]]\n",
    "\n",
    "    return train_data.reset_index(), test_data.reset_index()"
   ]
  },
  {
   "cell_type": "code",
   "execution_count": 3,
   "metadata": {},
   "outputs": [],
   "source": [
    "performance_stats = {}"
   ]
  },
  {
   "cell_type": "code",
   "execution_count": 4,
   "metadata": {},
   "outputs": [],
   "source": [
    "def randomforest_single_period(period):\n",
    "    train_data, test_data = load_feature(period)\n",
    "    X_train = train_data.drop(columns=[\"Date\", \"Ticker\", \"Return_tomorrow\", \"Target\"])\n",
    "    y_train = train_data[\"Target\"]\n",
    "    X_test = test_data.drop(columns=[\"Date\", \"Ticker\", \"Return_tomorrow\", \"Target\"])\n",
    "    y_test = test_data[\"Target\"]\n",
    "\n",
    "    params = {\n",
    "        \"n_estimators\": 1000,\n",
    "        \"max_depth\": 20,\n",
    "        \"max_features\": \"sqrt\",\n",
    "        \"n_jobs\": -1,\n",
    "    }\n",
    "\n",
    "    model = RandomForestClassifier(**params)\n",
    "    model.fit(X_train, y_train)\n",
    "    y_pred = model.predict(X_test)\n",
    "\n",
    "    performance_stats[period] = {\n",
    "        \"accuracy\": accuracy_score(y_test, y_pred),\n",
    "        \"precision\": precision_score(y_test, y_pred),\n",
    "        \"recall\": recall_score(y_test, y_pred),\n",
    "        \"f1\": f1_score(y_test, y_pred),\n",
    "        \"roc_auc\": roc_auc_score(y_test, y_pred),\n",
    "        \"gini_index\": 2 * roc_auc_score(y_test, y_pred) - 1,\n",
    "    }\n",
    "\n",
    "    result_df = test_data[[\"Date\", \"Ticker\", \"Return_tomorrow\", \"Target\"]].copy()\n",
    "    y_pred_proba = model.predict_proba(X_test)[:, 1]\n",
    "    result_df[\"pred\"] = y_pred\n",
    "    result_df[\"pred_proba\"] = y_pred_proba\n",
    "\n",
    "    result_df.to_parquet(f\"{save_path}/rf_period_{period}.parquet\")\n",
    "    dump(model, f\"{model_path}/rf_period_{period}.joblib\")\n",
    "    return model"
   ]
  },
  {
   "cell_type": "code",
   "execution_count": 5,
   "metadata": {},
   "outputs": [
    {
     "name": "stdout",
     "output_type": "stream",
     "text": [
      "{1: {'accuracy': 0.5151982640242765, 'precision': 0.5131552223924964, 'recall': 0.4741295484399256, 'f1': 0.49287107643199146, 'roc_auc': 0.5149436386795702, 'gini_index': 0.02988727735914032}}\n"
     ]
    }
   ],
   "source": [
    "model = randomforest_single_period(1)\n",
    "print(performance_stats)"
   ]
  },
  {
   "cell_type": "code",
   "execution_count": 6,
   "metadata": {},
   "outputs": [
    {
     "name": "stderr",
     "output_type": "stream",
     "text": [
      "  0%|          | 0/25 [00:00<?, ?it/s]"
     ]
    },
    {
     "name": "stderr",
     "output_type": "stream",
     "text": [
      "100%|██████████| 25/25 [1:02:47<00:00, 150.70s/it]\n"
     ]
    }
   ],
   "source": [
    "from tqdm import tqdm\n",
    "\n",
    "for period in tqdm(range(25)):\n",
    "    model = randomforest_single_period(period)"
   ]
  },
  {
   "cell_type": "code",
   "execution_count": 7,
   "metadata": {},
   "outputs": [],
   "source": [
    "performance_stats_df = pd.DataFrame(performance_stats)\n",
    "performance_stats_df.to_csv(f\"{save_path}/rf_performance_stats.csv\")"
   ]
  },
  {
   "cell_type": "code",
   "execution_count": 8,
   "metadata": {},
   "outputs": [],
   "source": [
    "all_df = pd.concat([pd.read_parquet(f\"{save_path}/rf_period_{i}.parquet\") for i in range(25)])\n",
    "all_df.to_parquet(f\"{save_path}/rf_all_periods.parquet\")"
   ]
  },
  {
   "cell_type": "code",
   "execution_count": 9,
   "metadata": {},
   "outputs": [
    {
     "data": {
      "text/plain": [
       "6250"
      ]
     },
     "execution_count": 9,
     "metadata": {},
     "output_type": "execute_result"
    }
   ],
   "source": [
    "all_df[\"Date\"].nunique()"
   ]
  },
  {
   "cell_type": "code",
   "execution_count": null,
   "metadata": {},
   "outputs": [],
   "source": []
  }
 ],
 "metadata": {
  "kernelspec": {
   "display_name": "pytorch",
   "language": "python",
   "name": "python3"
  },
  "language_info": {
   "codemirror_mode": {
    "name": "ipython",
    "version": 3
   },
   "file_extension": ".py",
   "mimetype": "text/x-python",
   "name": "python",
   "nbconvert_exporter": "python",
   "pygments_lexer": "ipython3",
   "version": "3.8.0"
  }
 },
 "nbformat": 4,
 "nbformat_minor": 2
}
