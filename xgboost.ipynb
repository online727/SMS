{
 "cells": [
  {
   "cell_type": "code",
   "execution_count": 1,
   "metadata": {},
   "outputs": [],
   "source": [
    "import numpy as np\n",
    "import pandas as pd\n",
    "import xgboost as xgb\n",
    "from sklearn.metrics import accuracy_score, precision_score, recall_score, f1_score, roc_auc_score\n",
    "import matplotlib.pyplot as plt\n",
    "\n",
    "import os\n",
    "\n",
    "save_path = \"./result/xgboost\"\n",
    "model_path = \"./data/model_data/models/xgboost\"\n",
    "os.makedirs(save_path, exist_ok=True)\n",
    "os.makedirs(model_path, exist_ok=True)"
   ]
  },
  {
   "cell_type": "code",
   "execution_count": 2,
   "metadata": {},
   "outputs": [],
   "source": [
    "feature_path = \"./data/model_data/period_features\"\n",
    "\n",
    "def load_feature(num_period: int, feature_path: str = feature_path) -> pd.DataFrame:\n",
    "    data = pd.read_parquet(f\"{feature_path}/features_period_{num_period}.parquet\")\n",
    "\n",
    "    date_range = data[\"Date\"].sort_values().unique()\n",
    "    data = data.set_index(\"Date\")\n",
    "\n",
    "    train_data = data.loc[date_range[:-250]]\n",
    "    test_data = data.loc[date_range[-250:]]\n",
    "\n",
    "    return train_data.reset_index(), test_data.reset_index()"
   ]
  },
  {
   "cell_type": "code",
   "execution_count": 4,
   "metadata": {},
   "outputs": [],
   "source": [
    "performance_stats = {}\n",
    "feature_importance = {}"
   ]
  },
  {
   "cell_type": "code",
   "execution_count": 5,
   "metadata": {},
   "outputs": [],
   "source": [
    "def xgboost_single_period(period):\n",
    "    train_data, test_data = load_feature(period)\n",
    "    X_train = train_data.drop(columns=[\"Date\", \"Ticker\", \"Return_tomorrow\", \"Target\"])\n",
    "    y_train = train_data[\"Target\"]\n",
    "    X_test = test_data.drop(columns=[\"Date\", \"Ticker\", \"Return_tomorrow\", \"Target\"])\n",
    "    y_test = test_data[\"Target\"]\n",
    "\n",
    "    dtrain = xgb.DMatrix(X_train, label=y_train)\n",
    "    dtest = xgb.DMatrix(X_test, label=y_test)\n",
    "\n",
    "    params = {\n",
    "        'booster': 'gbtree',\n",
    "        'objective': 'binary:logistic',\n",
    "        'eval_metric': 'logloss',\n",
    "        'max_depth': 5,\n",
    "        'learning_rate': 0.1,\n",
    "        'lambda': 0.1, # L2 regularization term on weights\n",
    "        'subsample': 0.75,\n",
    "        'colsample_bytree': 0.75,\n",
    "        'min_child_weight': 2,\n",
    "        'nthread': 8, # Number of threads\n",
    "    }\n",
    "\n",
    "    wachlist = [(dtrain, 'train'), (dtest, 'test')]\n",
    "    num_round = 1000\n",
    "    model = xgb.train(params, dtrain, num_round, evals=wachlist, early_stopping_rounds=10, verbose_eval=False)\n",
    "\n",
    "    y_pred_proba = model.predict(dtest)\n",
    "    y_pred = np.where(y_pred_proba > 0.5, 1, 0)\n",
    "\n",
    "    result_df = test_data[[\"Date\", \"Ticker\", \"Return_tomorrow\", \"Target\"]].copy()\n",
    "    result_df[\"pred\"] = y_pred\n",
    "    result_df[\"pred_proba\"] = y_pred_proba\n",
    "\n",
    "    performance_stats[period] = {\n",
    "        \"accuracy\": accuracy_score(y_test, y_pred),\n",
    "        \"precision\": precision_score(y_test, y_pred),\n",
    "        \"recall\": recall_score(y_test, y_pred),\n",
    "        \"f1\": f1_score(y_test, y_pred),\n",
    "        \"roc_auc\": roc_auc_score(y_test, y_pred),\n",
    "        \"gini_index\": 2 * roc_auc_score(y_test, y_pred) - 1,\n",
    "    }\n",
    "    feature_importance[period] = model.get_fscore()\n",
    "    \n",
    "    plt.figure(figsize=(12, 6))\n",
    "    xgb.plot_importance(model, ax=plt.gca(), title=f\"XGBoost Feature Importance for Period {period}\")\n",
    "    plt.savefig(f\"{save_path}/xgboost_feature_importance_{period}.png\")\n",
    "    plt.close()\n",
    "\n",
    "    result_df.to_parquet(f\"{save_path}/xgboost_period_{period}.parquet\")\n",
    "    model.save_model(f\"{model_path}/xgboost_period_{period}.json\")\n",
    "    return model"
   ]
  },
  {
   "cell_type": "code",
   "execution_count": 6,
   "metadata": {},
   "outputs": [
    {
     "data": {
      "text/plain": [
       "({1: {'accuracy': 0.5180633020835099,\n",
       "   'precision': 0.51716215953118,\n",
       "   'recall': 0.45314659069584945,\n",
       "   'f1': 0.48304267971122544,\n",
       "   'roc_auc': 0.5176608195666089,\n",
       "   'gini_index': 0.03532163913321784}},\n",
       " {'rtn_1': 62.0,\n",
       "  'rtn_2': 56.0,\n",
       "  'rtn_3': 33.0,\n",
       "  'rtn_4': 27.0,\n",
       "  'rtn_5': 40.0,\n",
       "  'rtn_6': 48.0,\n",
       "  'rtn_7': 29.0,\n",
       "  'rtn_8': 22.0,\n",
       "  'rtn_9': 29.0,\n",
       "  'rtn_10': 39.0,\n",
       "  'rtn_11': 24.0,\n",
       "  'rtn_12': 17.0,\n",
       "  'rtn_13': 18.0,\n",
       "  'rtn_14': 23.0,\n",
       "  'rtn_15': 15.0,\n",
       "  'rtn_16': 27.0,\n",
       "  'rtn_17': 19.0,\n",
       "  'rtn_18': 25.0,\n",
       "  'rtn_19': 23.0,\n",
       "  'rtn_20': 18.0,\n",
       "  'rtn_40': 25.0,\n",
       "  'rtn_60': 29.0,\n",
       "  'rtn_80': 38.0,\n",
       "  'rtn_100': 22.0,\n",
       "  'rtn_120': 31.0,\n",
       "  'rtn_140': 39.0,\n",
       "  'rtn_160': 30.0,\n",
       "  'rtn_180': 25.0,\n",
       "  'rtn_200': 35.0,\n",
       "  'rtn_220': 27.0,\n",
       "  'rtn_240': 41.0})"
      ]
     },
     "execution_count": 6,
     "metadata": {},
     "output_type": "execute_result"
    }
   ],
   "source": [
    "model = xgboost_single_period(1)\n",
    "performance_stats, feature_importance[1]"
   ]
  },
  {
   "cell_type": "code",
   "execution_count": 7,
   "metadata": {},
   "outputs": [
    {
     "name": "stderr",
     "output_type": "stream",
     "text": [
      "100%|██████████| 25/25 [01:02<00:00,  2.51s/it]\n"
     ]
    }
   ],
   "source": [
    "from tqdm import tqdm\n",
    "\n",
    "for period in tqdm(range(25)):\n",
    "    model = xgboost_single_period(period)"
   ]
  },
  {
   "cell_type": "code",
   "execution_count": 8,
   "metadata": {},
   "outputs": [],
   "source": [
    "performance_stats_df = pd.DataFrame(performance_stats)\n",
    "performance_stats_df.to_csv(f\"{save_path}/xgboost_performance_stats.csv\")"
   ]
  },
  {
   "cell_type": "code",
   "execution_count": 9,
   "metadata": {},
   "outputs": [],
   "source": [
    "feature_importance_df = pd.DataFrame(feature_importance)\n",
    "feature_importance_df[\"mean\"] = feature_importance_df.mean(axis=1)\n",
    "feature_importance_df = feature_importance_df.sort_values(\"mean\", ascending=False)\n",
    "feature_importance_df.to_csv(f\"{save_path}/xgboost_feature_importance.csv\")"
   ]
  },
  {
   "cell_type": "code",
   "execution_count": 10,
   "metadata": {},
   "outputs": [],
   "source": [
    "all_df = pd.concat([pd.read_parquet(f\"{save_path}/xgboost_period_{i}.parquet\") for i in range(25)])\n",
    "all_df.to_parquet(f\"{save_path}/xgboost_all_periods.parquet\")"
   ]
  },
  {
   "cell_type": "code",
   "execution_count": 11,
   "metadata": {},
   "outputs": [
    {
     "data": {
      "text/plain": [
       "6250"
      ]
     },
     "execution_count": 11,
     "metadata": {},
     "output_type": "execute_result"
    }
   ],
   "source": [
    "all_df[\"Date\"].nunique()"
   ]
  }
 ],
 "metadata": {
  "kernelspec": {
   "display_name": "pytorch",
   "language": "python",
   "name": "python3"
  },
  "language_info": {
   "codemirror_mode": {
    "name": "ipython",
    "version": 3
   },
   "file_extension": ".py",
   "mimetype": "text/x-python",
   "name": "python",
   "nbconvert_exporter": "python",
   "pygments_lexer": "ipython3",
   "version": "3.8.0"
  }
 },
 "nbformat": 4,
 "nbformat_minor": 2
}
