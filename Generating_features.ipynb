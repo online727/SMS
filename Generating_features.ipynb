{
 "cells": [
  {
   "cell_type": "code",
   "execution_count": 1,
   "metadata": {},
   "outputs": [],
   "source": [
    "import numpy as np\n",
    "import pandas as pd\n",
    "import datetime as dt\n",
    "from tqdm import tqdm\n",
    "import os"
   ]
  },
  {
   "cell_type": "code",
   "execution_count": 2,
   "metadata": {},
   "outputs": [],
   "source": [
    "dataset_path = \"./data/stocks_data/single_period_data\"\n",
    "features_path = \"./data/model_data/period_features\"\n",
    "if not os.path.exists(features_path):\n",
    "    os.makedirs(features_path)"
   ]
  },
  {
   "cell_type": "code",
   "execution_count": 3,
   "metadata": {},
   "outputs": [],
   "source": [
    "def load_data(num_period: int, dataset_path: str = dataset_path) -> pd.DataFrame:\n",
    "    data = pd.read_parquet(f\"{dataset_path}/period_{num_period}.parquet\")\n",
    "    data = data.set_index(\"Date\")\n",
    "    useful_days = data.groupby(\"Ticker\")[\"Adj_Close\"].count()\n",
    "    reserved_stocks = useful_days[useful_days >= 600].index\n",
    "    print(f\"Number of stocks: {len(reserved_stocks)}\")\n",
    "    print(f\"Date range: {data.index.min()} - {data.index.max()}\")\n",
    "    data = data[data[\"Ticker\"].isin(reserved_stocks)]\n",
    "    return data"
   ]
  },
  {
   "cell_type": "code",
   "execution_count": 12,
   "metadata": {},
   "outputs": [],
   "source": [
    "def calc_log_rtn(close, n=1):\n",
    "    # convert the close price to numpy array\n",
    "    close = np.array(close, dtype=np.float64)\n",
    "    \n",
    "    # check n\n",
    "    if n < 1:\n",
    "        raise ValueError(\"n must be at least 1\")\n",
    "    \n",
    "    # compute the log return, from n-th day to the end\n",
    "    # assert that the close price is not 0 and not NaN\n",
    "    divi_resu = np.full_like(close, np.nan)\n",
    "    np.divide(close[n:], close[:-n], out=divi_resu[n:], where=(close[:-n] != 0))\n",
    "    \n",
    "    # compute the log return securely\n",
    "    log_result = np.full_like(close, np.nan)\n",
    "    where_condition = (divi_resu != 0) & (divi_resu != np.nan)\n",
    "    np.log(divi_resu, out=log_result, where=where_condition)\n",
    "    \n",
    "    return log_result\n",
    "\n",
    "\n",
    "def calc_percent_return(close: pd.Series, lag: int) -> pd.Series:\n",
    "    close = close.to_numpy(dtype=np.float64)\n",
    "    result = np.full_like(close, -np.inf)\n",
    "    result[:lag] = np.nan\n",
    "    np.divide(close[lag:], close[:-lag], out=result[lag:], where=close[:-lag] != 0)\n",
    "    return result - 1\n",
    "\n",
    "\n",
    "def generate_features(period_data: pd.DataFrame, lags: list) -> pd.DataFrame:\n",
    "    features = period_data[[\"Ticker\", \"Return_tomorrow\"]].copy().reset_index()\n",
    "    for lag in tqdm(lags):\n",
    "        features[f\"rtn_{lag}\"] = period_data.groupby(\"Ticker\")[\"Adj_Close\"].transform(lambda x: calc_log_rtn(x, lag)).values\n",
    "    features.dropna(how=\"any\", axis=0, inplace=True)\n",
    "    lag1_median = features.groupby(\"Date\")[\"Return_tomorrow\"].transform(\"median\")\n",
    "    features[\"Target\"] = (features[\"Return_tomorrow\"] > lag1_median).astype(int)\n",
    "    return features.sort_values([\"Date\", \"Ticker\"]).reset_index(drop=True)"
   ]
  },
  {
   "cell_type": "code",
   "execution_count": 13,
   "metadata": {},
   "outputs": [
    {
     "name": "stdout",
     "output_type": "stream",
     "text": [
      "[1, 2, 3, 4, 5] [160, 180, 200, 220, 240] 31\n"
     ]
    }
   ],
   "source": [
    "lags = list(range(1, 21)) + list(range(40, 241, 20))\n",
    "print(lags[:5], lags[-5:], len(lags))"
   ]
  },
  {
   "cell_type": "code",
   "execution_count": 14,
   "metadata": {},
   "outputs": [
    {
     "name": "stdout",
     "output_type": "stream",
     "text": [
      "Number of stocks: 461\n",
      "Date range: 1996-07-05 00:00:00 - 2000-06-20 00:00:00\n"
     ]
    },
    {
     "data": {
      "text/html": [
       "<div>\n",
       "<style scoped>\n",
       "    .dataframe tbody tr th:only-of-type {\n",
       "        vertical-align: middle;\n",
       "    }\n",
       "\n",
       "    .dataframe tbody tr th {\n",
       "        vertical-align: top;\n",
       "    }\n",
       "\n",
       "    .dataframe thead th {\n",
       "        text-align: right;\n",
       "    }\n",
       "</style>\n",
       "<table border=\"1\" class=\"dataframe\">\n",
       "  <thead>\n",
       "    <tr style=\"text-align: right;\">\n",
       "      <th></th>\n",
       "      <th>Ticker</th>\n",
       "      <th>Adj_Close</th>\n",
       "      <th>Return_tomorrow</th>\n",
       "    </tr>\n",
       "    <tr>\n",
       "      <th>Date</th>\n",
       "      <th></th>\n",
       "      <th></th>\n",
       "      <th></th>\n",
       "    </tr>\n",
       "  </thead>\n",
       "  <tbody>\n",
       "    <tr>\n",
       "      <th>1996-07-05</th>\n",
       "      <td>AAPL</td>\n",
       "      <td>0.147199</td>\n",
       "      <td>-0.019417</td>\n",
       "    </tr>\n",
       "    <tr>\n",
       "      <th>1996-07-08</th>\n",
       "      <td>AAPL</td>\n",
       "      <td>0.144369</td>\n",
       "      <td>-0.006557</td>\n",
       "    </tr>\n",
       "    <tr>\n",
       "      <th>1996-07-09</th>\n",
       "      <td>AAPL</td>\n",
       "      <td>0.143425</td>\n",
       "      <td>-0.013244</td>\n",
       "    </tr>\n",
       "    <tr>\n",
       "      <th>1996-07-10</th>\n",
       "      <td>AAPL</td>\n",
       "      <td>0.141538</td>\n",
       "      <td>-0.047794</td>\n",
       "    </tr>\n",
       "    <tr>\n",
       "      <th>1996-07-11</th>\n",
       "      <td>AAPL</td>\n",
       "      <td>0.134933</td>\n",
       "      <td>0.010434</td>\n",
       "    </tr>\n",
       "  </tbody>\n",
       "</table>\n",
       "</div>"
      ],
      "text/plain": [
       "           Ticker  Adj_Close  Return_tomorrow\n",
       "Date                                         \n",
       "1996-07-05   AAPL   0.147199        -0.019417\n",
       "1996-07-08   AAPL   0.144369        -0.006557\n",
       "1996-07-09   AAPL   0.143425        -0.013244\n",
       "1996-07-10   AAPL   0.141538        -0.047794\n",
       "1996-07-11   AAPL   0.134933         0.010434"
      ]
     },
     "execution_count": 14,
     "metadata": {},
     "output_type": "execute_result"
    }
   ],
   "source": [
    "period_data = load_data(0)\n",
    "period_data.head()"
   ]
  },
  {
   "cell_type": "code",
   "execution_count": 15,
   "metadata": {},
   "outputs": [
    {
     "name": "stderr",
     "output_type": "stream",
     "text": [
      "  0%|          | 0/31 [00:00<?, ?it/s]"
     ]
    },
    {
     "name": "stderr",
     "output_type": "stream",
     "text": [
      "100%|██████████| 31/31 [00:03<00:00,  8.96it/s]\n"
     ]
    },
    {
     "data": {
      "text/html": [
       "<div>\n",
       "<style scoped>\n",
       "    .dataframe tbody tr th:only-of-type {\n",
       "        vertical-align: middle;\n",
       "    }\n",
       "\n",
       "    .dataframe tbody tr th {\n",
       "        vertical-align: top;\n",
       "    }\n",
       "\n",
       "    .dataframe thead th {\n",
       "        text-align: right;\n",
       "    }\n",
       "</style>\n",
       "<table border=\"1\" class=\"dataframe\">\n",
       "  <thead>\n",
       "    <tr style=\"text-align: right;\">\n",
       "      <th></th>\n",
       "      <th>Date</th>\n",
       "      <th>Ticker</th>\n",
       "      <th>Return_tomorrow</th>\n",
       "      <th>rtn_1</th>\n",
       "      <th>rtn_2</th>\n",
       "      <th>rtn_3</th>\n",
       "      <th>rtn_4</th>\n",
       "      <th>rtn_5</th>\n",
       "      <th>rtn_6</th>\n",
       "      <th>rtn_7</th>\n",
       "      <th>...</th>\n",
       "      <th>rtn_80</th>\n",
       "      <th>rtn_100</th>\n",
       "      <th>rtn_120</th>\n",
       "      <th>rtn_140</th>\n",
       "      <th>rtn_160</th>\n",
       "      <th>rtn_180</th>\n",
       "      <th>rtn_200</th>\n",
       "      <th>rtn_220</th>\n",
       "      <th>rtn_240</th>\n",
       "      <th>Target</th>\n",
       "    </tr>\n",
       "  </thead>\n",
       "  <tbody>\n",
       "    <tr>\n",
       "      <th>0</th>\n",
       "      <td>1997-06-17</td>\n",
       "      <td>AAPL</td>\n",
       "      <td>-0.025169</td>\n",
       "      <td>0.053003</td>\n",
       "      <td>0.033043</td>\n",
       "      <td>0.017357</td>\n",
       "      <td>0.001914</td>\n",
       "      <td>0.005753</td>\n",
       "      <td>-0.017068</td>\n",
       "      <td>-0.024558</td>\n",
       "      <td>...</td>\n",
       "      <td>-0.001910</td>\n",
       "      <td>-0.053970</td>\n",
       "      <td>-0.347070</td>\n",
       "      <td>-0.425031</td>\n",
       "      <td>-0.404830</td>\n",
       "      <td>-0.305687</td>\n",
       "      <td>-0.394574</td>\n",
       "      <td>-0.280005</td>\n",
       "      <td>-0.176570</td>\n",
       "      <td>0</td>\n",
       "    </tr>\n",
       "    <tr>\n",
       "      <th>1</th>\n",
       "      <td>1997-06-17</td>\n",
       "      <td>ABMD</td>\n",
       "      <td>-0.047931</td>\n",
       "      <td>0.018867</td>\n",
       "      <td>0.000000</td>\n",
       "      <td>-0.018518</td>\n",
       "      <td>-0.072098</td>\n",
       "      <td>0.184177</td>\n",
       "      <td>0.118942</td>\n",
       "      <td>0.184177</td>\n",
       "      <td>...</td>\n",
       "      <td>0.129609</td>\n",
       "      <td>0.108555</td>\n",
       "      <td>0.047931</td>\n",
       "      <td>-0.018518</td>\n",
       "      <td>-0.131117</td>\n",
       "      <td>-0.209898</td>\n",
       "      <td>0.067733</td>\n",
       "      <td>0.028513</td>\n",
       "      <td>-0.131117</td>\n",
       "      <td>0</td>\n",
       "    </tr>\n",
       "    <tr>\n",
       "      <th>2</th>\n",
       "      <td>1997-06-17</td>\n",
       "      <td>ABT</td>\n",
       "      <td>-0.009607</td>\n",
       "      <td>-0.011406</td>\n",
       "      <td>-0.015180</td>\n",
       "      <td>-0.017062</td>\n",
       "      <td>-0.003817</td>\n",
       "      <td>0.011539</td>\n",
       "      <td>0.005753</td>\n",
       "      <td>0.021258</td>\n",
       "      <td>...</td>\n",
       "      <td>0.133135</td>\n",
       "      <td>0.195983</td>\n",
       "      <td>0.228583</td>\n",
       "      <td>0.155490</td>\n",
       "      <td>0.287136</td>\n",
       "      <td>0.302109</td>\n",
       "      <td>0.392356</td>\n",
       "      <td>0.386817</td>\n",
       "      <td>0.449313</td>\n",
       "      <td>0</td>\n",
       "    </tr>\n",
       "    <tr>\n",
       "      <th>3</th>\n",
       "      <td>1997-06-17</td>\n",
       "      <td>ACGL</td>\n",
       "      <td>0.019293</td>\n",
       "      <td>0.000000</td>\n",
       "      <td>-0.012903</td>\n",
       "      <td>0.000000</td>\n",
       "      <td>0.016367</td>\n",
       "      <td>0.046520</td>\n",
       "      <td>0.039740</td>\n",
       "      <td>0.053346</td>\n",
       "      <td>...</td>\n",
       "      <td>0.124298</td>\n",
       "      <td>0.146604</td>\n",
       "      <td>0.060219</td>\n",
       "      <td>0.095311</td>\n",
       "      <td>0.060219</td>\n",
       "      <td>0.013072</td>\n",
       "      <td>0.131678</td>\n",
       "      <td>0.081126</td>\n",
       "      <td>0.000000</td>\n",
       "      <td>1</td>\n",
       "    </tr>\n",
       "    <tr>\n",
       "      <th>4</th>\n",
       "      <td>1997-06-17</td>\n",
       "      <td>ADBE</td>\n",
       "      <td>-0.032088</td>\n",
       "      <td>0.004522</td>\n",
       "      <td>0.007547</td>\n",
       "      <td>0.001505</td>\n",
       "      <td>-0.004501</td>\n",
       "      <td>0.001505</td>\n",
       "      <td>0.001505</td>\n",
       "      <td>-0.036904</td>\n",
       "      <td>...</td>\n",
       "      <td>0.120835</td>\n",
       "      <td>0.131057</td>\n",
       "      <td>0.066078</td>\n",
       "      <td>0.053339</td>\n",
       "      <td>0.210659</td>\n",
       "      <td>0.111988</td>\n",
       "      <td>0.179190</td>\n",
       "      <td>0.301014</td>\n",
       "      <td>0.172047</td>\n",
       "      <td>0</td>\n",
       "    </tr>\n",
       "  </tbody>\n",
       "</table>\n",
       "<p>5 rows × 35 columns</p>\n",
       "</div>"
      ],
      "text/plain": [
       "        Date Ticker  Return_tomorrow     rtn_1     rtn_2     rtn_3     rtn_4  \\\n",
       "0 1997-06-17   AAPL        -0.025169  0.053003  0.033043  0.017357  0.001914   \n",
       "1 1997-06-17   ABMD        -0.047931  0.018867  0.000000 -0.018518 -0.072098   \n",
       "2 1997-06-17    ABT        -0.009607 -0.011406 -0.015180 -0.017062 -0.003817   \n",
       "3 1997-06-17   ACGL         0.019293  0.000000 -0.012903  0.000000  0.016367   \n",
       "4 1997-06-17   ADBE        -0.032088  0.004522  0.007547  0.001505 -0.004501   \n",
       "\n",
       "      rtn_5     rtn_6     rtn_7  ...    rtn_80   rtn_100   rtn_120   rtn_140  \\\n",
       "0  0.005753 -0.017068 -0.024558  ... -0.001910 -0.053970 -0.347070 -0.425031   \n",
       "1  0.184177  0.118942  0.184177  ...  0.129609  0.108555  0.047931 -0.018518   \n",
       "2  0.011539  0.005753  0.021258  ...  0.133135  0.195983  0.228583  0.155490   \n",
       "3  0.046520  0.039740  0.053346  ...  0.124298  0.146604  0.060219  0.095311   \n",
       "4  0.001505  0.001505 -0.036904  ...  0.120835  0.131057  0.066078  0.053339   \n",
       "\n",
       "    rtn_160   rtn_180   rtn_200   rtn_220   rtn_240  Target  \n",
       "0 -0.404830 -0.305687 -0.394574 -0.280005 -0.176570       0  \n",
       "1 -0.131117 -0.209898  0.067733  0.028513 -0.131117       0  \n",
       "2  0.287136  0.302109  0.392356  0.386817  0.449313       0  \n",
       "3  0.060219  0.013072  0.131678  0.081126  0.000000       1  \n",
       "4  0.210659  0.111988  0.179190  0.301014  0.172047       0  \n",
       "\n",
       "[5 rows x 35 columns]"
      ]
     },
     "execution_count": 15,
     "metadata": {},
     "output_type": "execute_result"
    }
   ],
   "source": [
    "features = generate_features(period_data, lags)\n",
    "features.head()"
   ]
  },
  {
   "cell_type": "code",
   "execution_count": 8,
   "metadata": {},
   "outputs": [
    {
     "name": "stdout",
     "output_type": "stream",
     "text": [
      "Number of stocks: 461\n",
      "Date range: 1996-07-05 00:00:00 - 2000-06-20 00:00:00\n"
     ]
    },
    {
     "name": "stderr",
     "output_type": "stream",
     "text": [
      "100%|██████████| 31/31 [00:02<00:00, 11.67it/s]\n"
     ]
    },
    {
     "name": "stdout",
     "output_type": "stream",
     "text": [
      "Number of stocks: 472\n",
      "Date range: 1997-07-01 00:00:00 - 2001-06-18 00:00:00\n"
     ]
    },
    {
     "name": "stderr",
     "output_type": "stream",
     "text": [
      "100%|██████████| 31/31 [00:02<00:00, 13.41it/s]\n"
     ]
    },
    {
     "name": "stdout",
     "output_type": "stream",
     "text": [
      "Number of stocks: 495\n",
      "Date range: 1998-06-29 00:00:00 - 2002-06-20 00:00:00\n"
     ]
    },
    {
     "name": "stderr",
     "output_type": "stream",
     "text": [
      "100%|██████████| 31/31 [00:02<00:00, 12.66it/s]\n"
     ]
    },
    {
     "name": "stdout",
     "output_type": "stream",
     "text": [
      "Number of stocks: 515\n",
      "Date range: 1999-06-25 00:00:00 - 2003-06-18 00:00:00\n"
     ]
    },
    {
     "name": "stderr",
     "output_type": "stream",
     "text": [
      "100%|██████████| 31/31 [00:02<00:00, 12.34it/s]\n"
     ]
    },
    {
     "name": "stdout",
     "output_type": "stream",
     "text": [
      "Number of stocks: 531\n",
      "Date range: 2000-06-21 00:00:00 - 2004-06-16 00:00:00\n"
     ]
    },
    {
     "name": "stderr",
     "output_type": "stream",
     "text": [
      "100%|██████████| 31/31 [00:02<00:00, 11.92it/s]\n"
     ]
    },
    {
     "name": "stdout",
     "output_type": "stream",
     "text": [
      "Number of stocks: 538\n",
      "Date range: 2001-06-19 00:00:00 - 2005-06-13 00:00:00\n"
     ]
    },
    {
     "name": "stderr",
     "output_type": "stream",
     "text": [
      "100%|██████████| 31/31 [00:03<00:00, 10.06it/s]\n"
     ]
    },
    {
     "name": "stdout",
     "output_type": "stream",
     "text": [
      "Number of stocks: 545\n",
      "Date range: 2002-06-21 00:00:00 - 2006-06-09 00:00:00\n"
     ]
    },
    {
     "name": "stderr",
     "output_type": "stream",
     "text": [
      "100%|██████████| 31/31 [00:03<00:00, 10.14it/s]\n"
     ]
    },
    {
     "name": "stdout",
     "output_type": "stream",
     "text": [
      "Number of stocks: 568\n",
      "Date range: 2003-06-19 00:00:00 - 2007-06-08 00:00:00\n"
     ]
    },
    {
     "name": "stderr",
     "output_type": "stream",
     "text": [
      "100%|██████████| 31/31 [00:03<00:00,  9.44it/s]\n"
     ]
    },
    {
     "name": "stdout",
     "output_type": "stream",
     "text": [
      "Number of stocks: 587\n",
      "Date range: 2004-06-17 00:00:00 - 2008-06-05 00:00:00\n"
     ]
    },
    {
     "name": "stderr",
     "output_type": "stream",
     "text": [
      "100%|██████████| 31/31 [00:02<00:00, 10.82it/s]\n"
     ]
    },
    {
     "name": "stdout",
     "output_type": "stream",
     "text": [
      "Number of stocks: 606\n",
      "Date range: 2005-06-14 00:00:00 - 2009-06-03 00:00:00\n"
     ]
    },
    {
     "name": "stderr",
     "output_type": "stream",
     "text": [
      "100%|██████████| 31/31 [00:02<00:00, 10.56it/s]\n"
     ]
    },
    {
     "name": "stdout",
     "output_type": "stream",
     "text": [
      "Number of stocks: 625\n",
      "Date range: 2006-06-12 00:00:00 - 2010-06-01 00:00:00\n"
     ]
    },
    {
     "name": "stderr",
     "output_type": "stream",
     "text": [
      "100%|██████████| 31/31 [00:03<00:00, 10.22it/s]\n"
     ]
    },
    {
     "name": "stdout",
     "output_type": "stream",
     "text": [
      "Number of stocks: 640\n",
      "Date range: 2007-06-11 00:00:00 - 2011-05-26 00:00:00\n"
     ]
    },
    {
     "name": "stderr",
     "output_type": "stream",
     "text": [
      "100%|██████████| 31/31 [00:03<00:00,  8.91it/s]\n"
     ]
    },
    {
     "name": "stdout",
     "output_type": "stream",
     "text": [
      "Number of stocks: 647\n",
      "Date range: 2008-06-06 00:00:00 - 2012-05-23 00:00:00\n"
     ]
    },
    {
     "name": "stderr",
     "output_type": "stream",
     "text": [
      "100%|██████████| 31/31 [00:03<00:00,  9.81it/s]\n"
     ]
    },
    {
     "name": "stdout",
     "output_type": "stream",
     "text": [
      "Number of stocks: 668\n",
      "Date range: 2009-06-04 00:00:00 - 2013-05-23 00:00:00\n"
     ]
    },
    {
     "name": "stderr",
     "output_type": "stream",
     "text": [
      "100%|██████████| 31/31 [00:03<00:00,  9.57it/s]\n"
     ]
    },
    {
     "name": "stdout",
     "output_type": "stream",
     "text": [
      "Number of stocks: 688\n",
      "Date range: 2010-06-02 00:00:00 - 2014-05-21 00:00:00\n"
     ]
    },
    {
     "name": "stderr",
     "output_type": "stream",
     "text": [
      "100%|██████████| 31/31 [00:03<00:00,  9.13it/s]\n"
     ]
    },
    {
     "name": "stdout",
     "output_type": "stream",
     "text": [
      "Number of stocks: 705\n",
      "Date range: 2011-05-27 00:00:00 - 2015-05-19 00:00:00\n"
     ]
    },
    {
     "name": "stderr",
     "output_type": "stream",
     "text": [
      "100%|██████████| 31/31 [00:03<00:00,  8.05it/s]\n"
     ]
    },
    {
     "name": "stdout",
     "output_type": "stream",
     "text": [
      "Number of stocks: 715\n",
      "Date range: 2012-05-24 00:00:00 - 2016-05-16 00:00:00\n"
     ]
    },
    {
     "name": "stderr",
     "output_type": "stream",
     "text": [
      "100%|██████████| 31/31 [00:03<00:00,  7.93it/s]\n"
     ]
    },
    {
     "name": "stdout",
     "output_type": "stream",
     "text": [
      "Number of stocks: 723\n",
      "Date range: 2013-05-24 00:00:00 - 2017-05-12 00:00:00\n"
     ]
    },
    {
     "name": "stderr",
     "output_type": "stream",
     "text": [
      "100%|██████████| 31/31 [00:04<00:00,  7.46it/s]\n"
     ]
    },
    {
     "name": "stdout",
     "output_type": "stream",
     "text": [
      "Number of stocks: 726\n",
      "Date range: 2014-05-22 00:00:00 - 2018-05-10 00:00:00\n"
     ]
    },
    {
     "name": "stderr",
     "output_type": "stream",
     "text": [
      "100%|██████████| 31/31 [00:03<00:00,  7.93it/s]\n"
     ]
    },
    {
     "name": "stdout",
     "output_type": "stream",
     "text": [
      "Number of stocks: 724\n",
      "Date range: 2015-05-20 00:00:00 - 2019-05-09 00:00:00\n"
     ]
    },
    {
     "name": "stderr",
     "output_type": "stream",
     "text": [
      "100%|██████████| 31/31 [00:03<00:00,  8.73it/s]\n"
     ]
    },
    {
     "name": "stdout",
     "output_type": "stream",
     "text": [
      "Number of stocks: 700\n",
      "Date range: 2016-05-17 00:00:00 - 2020-05-06 00:00:00\n"
     ]
    },
    {
     "name": "stderr",
     "output_type": "stream",
     "text": [
      "100%|██████████| 31/31 [00:04<00:00,  7.22it/s]\n"
     ]
    },
    {
     "name": "stdout",
     "output_type": "stream",
     "text": [
      "Number of stocks: 692\n",
      "Date range: 2017-05-15 00:00:00 - 2021-05-04 00:00:00\n"
     ]
    },
    {
     "name": "stderr",
     "output_type": "stream",
     "text": [
      "100%|██████████| 31/31 [00:03<00:00,  8.01it/s]\n"
     ]
    },
    {
     "name": "stdout",
     "output_type": "stream",
     "text": [
      "Number of stocks: 700\n",
      "Date range: 2018-05-11 00:00:00 - 2022-04-29 00:00:00\n"
     ]
    },
    {
     "name": "stderr",
     "output_type": "stream",
     "text": [
      "100%|██████████| 31/31 [00:03<00:00,  8.96it/s]\n"
     ]
    },
    {
     "name": "stdout",
     "output_type": "stream",
     "text": [
      "Number of stocks: 700\n",
      "Date range: 2019-05-10 00:00:00 - 2023-04-28 00:00:00\n"
     ]
    },
    {
     "name": "stderr",
     "output_type": "stream",
     "text": [
      "100%|██████████| 31/31 [00:03<00:00,  8.87it/s]\n"
     ]
    },
    {
     "name": "stdout",
     "output_type": "stream",
     "text": [
      "Number of stocks: 686\n",
      "Date range: 2020-05-07 00:00:00 - 2024-04-26 00:00:00\n"
     ]
    },
    {
     "name": "stderr",
     "output_type": "stream",
     "text": [
      "100%|██████████| 31/31 [00:03<00:00,  9.14it/s]\n"
     ]
    }
   ],
   "source": [
    "for period in range(25):\n",
    "    print(f\"Processing period {period}\")\n",
    "    period_data = load_data(period)\n",
    "    features = generate_features(period_data, lags)\n",
    "    features.to_parquet(f\"{features_path}/features_period_{period}.parquet\")"
   ]
  },
  {
   "cell_type": "code",
   "execution_count": 9,
   "metadata": {},
   "outputs": [
    {
     "data": {
      "text/html": [
       "<div>\n",
       "<style scoped>\n",
       "    .dataframe tbody tr th:only-of-type {\n",
       "        vertical-align: middle;\n",
       "    }\n",
       "\n",
       "    .dataframe tbody tr th {\n",
       "        vertical-align: top;\n",
       "    }\n",
       "\n",
       "    .dataframe thead th {\n",
       "        text-align: right;\n",
       "    }\n",
       "</style>\n",
       "<table border=\"1\" class=\"dataframe\">\n",
       "  <thead>\n",
       "    <tr style=\"text-align: right;\">\n",
       "      <th></th>\n",
       "      <th>Date</th>\n",
       "      <th>Ticker</th>\n",
       "      <th>Return_tomorrow</th>\n",
       "      <th>Target</th>\n",
       "      <th>median</th>\n",
       "    </tr>\n",
       "  </thead>\n",
       "  <tbody>\n",
       "    <tr>\n",
       "      <th>0</th>\n",
       "      <td>1997-06-17</td>\n",
       "      <td>AAPL</td>\n",
       "      <td>-0.025169</td>\n",
       "      <td>0</td>\n",
       "      <td>0.0</td>\n",
       "    </tr>\n",
       "    <tr>\n",
       "      <th>1</th>\n",
       "      <td>1997-06-17</td>\n",
       "      <td>ABMD</td>\n",
       "      <td>-0.047931</td>\n",
       "      <td>0</td>\n",
       "      <td>0.0</td>\n",
       "    </tr>\n",
       "    <tr>\n",
       "      <th>2</th>\n",
       "      <td>1997-06-17</td>\n",
       "      <td>ABT</td>\n",
       "      <td>-0.009607</td>\n",
       "      <td>0</td>\n",
       "      <td>0.0</td>\n",
       "    </tr>\n",
       "    <tr>\n",
       "      <th>3</th>\n",
       "      <td>1997-06-17</td>\n",
       "      <td>ACGL</td>\n",
       "      <td>0.019293</td>\n",
       "      <td>1</td>\n",
       "      <td>0.0</td>\n",
       "    </tr>\n",
       "    <tr>\n",
       "      <th>4</th>\n",
       "      <td>1997-06-17</td>\n",
       "      <td>ADBE</td>\n",
       "      <td>-0.032088</td>\n",
       "      <td>0</td>\n",
       "      <td>0.0</td>\n",
       "    </tr>\n",
       "  </tbody>\n",
       "</table>\n",
       "</div>"
      ],
      "text/plain": [
       "        Date Ticker  Return_tomorrow  Target  median\n",
       "0 1997-06-17   AAPL        -0.025169       0     0.0\n",
       "1 1997-06-17   ABMD        -0.047931       0     0.0\n",
       "2 1997-06-17    ABT        -0.009607       0     0.0\n",
       "3 1997-06-17   ACGL         0.019293       1     0.0\n",
       "4 1997-06-17   ADBE        -0.032088       0     0.0"
      ]
     },
     "execution_count": 9,
     "metadata": {},
     "output_type": "execute_result"
    }
   ],
   "source": [
    "data = pd.read_parquet(f\"{features_path}/features_period_0.parquet\")\n",
    "data = data[[\"Date\", \"Ticker\", \"Return_tomorrow\", \"Target\"]].copy()\n",
    "data[\"median\"] = data.groupby(\"Date\")[\"Return_tomorrow\"].transform(\"median\")\n",
    "data.head()"
   ]
  },
  {
   "cell_type": "code",
   "execution_count": 10,
   "metadata": {},
   "outputs": [
    {
     "data": {
      "text/html": [
       "<div>\n",
       "<style scoped>\n",
       "    .dataframe tbody tr th:only-of-type {\n",
       "        vertical-align: middle;\n",
       "    }\n",
       "\n",
       "    .dataframe tbody tr th {\n",
       "        vertical-align: top;\n",
       "    }\n",
       "\n",
       "    .dataframe thead th {\n",
       "        text-align: right;\n",
       "    }\n",
       "</style>\n",
       "<table border=\"1\" class=\"dataframe\">\n",
       "  <thead>\n",
       "    <tr style=\"text-align: right;\">\n",
       "      <th></th>\n",
       "      <th>Date</th>\n",
       "      <th>Ticker</th>\n",
       "      <th>Return_tomorrow</th>\n",
       "      <th>Target</th>\n",
       "      <th>median</th>\n",
       "    </tr>\n",
       "  </thead>\n",
       "  <tbody>\n",
       "    <tr>\n",
       "      <th>343025</th>\n",
       "      <td>2000-06-20</td>\n",
       "      <td>XRAY</td>\n",
       "      <td>-0.001974</td>\n",
       "      <td>0</td>\n",
       "      <td>0.0</td>\n",
       "    </tr>\n",
       "    <tr>\n",
       "      <th>343026</th>\n",
       "      <td>2000-06-20</td>\n",
       "      <td>XRX</td>\n",
       "      <td>-0.033388</td>\n",
       "      <td>0</td>\n",
       "      <td>0.0</td>\n",
       "    </tr>\n",
       "    <tr>\n",
       "      <th>343027</th>\n",
       "      <td>2000-06-20</td>\n",
       "      <td>YUM</td>\n",
       "      <td>0.011508</td>\n",
       "      <td>1</td>\n",
       "      <td>0.0</td>\n",
       "    </tr>\n",
       "    <tr>\n",
       "      <th>343028</th>\n",
       "      <td>2000-06-20</td>\n",
       "      <td>ZBRA</td>\n",
       "      <td>-0.010695</td>\n",
       "      <td>0</td>\n",
       "      <td>0.0</td>\n",
       "    </tr>\n",
       "    <tr>\n",
       "      <th>343029</th>\n",
       "      <td>2000-06-20</td>\n",
       "      <td>ZION</td>\n",
       "      <td>-0.022093</td>\n",
       "      <td>0</td>\n",
       "      <td>0.0</td>\n",
       "    </tr>\n",
       "  </tbody>\n",
       "</table>\n",
       "</div>"
      ],
      "text/plain": [
       "             Date Ticker  Return_tomorrow  Target  median\n",
       "343025 2000-06-20   XRAY        -0.001974       0     0.0\n",
       "343026 2000-06-20    XRX        -0.033388       0     0.0\n",
       "343027 2000-06-20    YUM         0.011508       1     0.0\n",
       "343028 2000-06-20   ZBRA        -0.010695       0     0.0\n",
       "343029 2000-06-20   ZION        -0.022093       0     0.0"
      ]
     },
     "execution_count": 10,
     "metadata": {},
     "output_type": "execute_result"
    }
   ],
   "source": [
    "data.tail()"
   ]
  }
 ],
 "metadata": {
  "kernelspec": {
   "display_name": "base",
   "language": "python",
   "name": "python3"
  },
  "language_info": {
   "codemirror_mode": {
    "name": "ipython",
    "version": 3
   },
   "file_extension": ".py",
   "mimetype": "text/x-python",
   "name": "python",
   "nbconvert_exporter": "python",
   "pygments_lexer": "ipython3",
   "version": "3.11.5"
  },
  "orig_nbformat": 4
 },
 "nbformat": 4,
 "nbformat_minor": 2
}
