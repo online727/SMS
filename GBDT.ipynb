{
 "cells": [
  {
   "cell_type": "code",
   "execution_count": 1,
   "metadata": {},
   "outputs": [],
   "source": [
    "import pandas as pd\n",
    "from sklearn.ensemble import GradientBoostingClassifier\n",
    "from sklearn.metrics import accuracy_score, f1_score, precision_score, recall_score, roc_auc_score\n",
    "\n",
    "import os\n",
    "from joblib import dump\n",
    "\n",
    "save_path = \"./result/gbdt\"\n",
    "model_path = \"./data/model_data/models/gbdt\"\n",
    "os.makedirs(save_path, exist_ok=True)\n",
    "os.makedirs(model_path, exist_ok=True)"
   ]
  },
  {
   "cell_type": "code",
   "execution_count": 2,
   "metadata": {},
   "outputs": [],
   "source": [
    "feature_path = \"./data/model_data/period_features\"\n",
    "\n",
    "def load_feature(num_period: int, feature_path: str = feature_path) -> pd.DataFrame:\n",
    "    data = pd.read_parquet(f\"{feature_path}/features_period_{num_period}.parquet\")\n",
    "\n",
    "    date_range = data[\"Date\"].sort_values().unique()\n",
    "    data = data.set_index(\"Date\")\n",
    "\n",
    "    train_data = data.loc[date_range[:-250]]\n",
    "    test_data = data.loc[date_range[-250:]]\n",
    "\n",
    "    return train_data.reset_index(), test_data.reset_index()"
   ]
  },
  {
   "cell_type": "code",
   "execution_count": 3,
   "metadata": {},
   "outputs": [],
   "source": [
    "performance_stats = {}"
   ]
  },
  {
   "cell_type": "code",
   "execution_count": 4,
   "metadata": {},
   "outputs": [],
   "source": [
    "def gbdt_single_period(period):\n",
    "    train_data, test_data = load_feature(period)\n",
    "    X_train = train_data.drop(columns=[\"Date\", \"Ticker\", \"Return_tomorrow\", \"Target\"])\n",
    "    y_train = train_data[\"Target\"]\n",
    "    X_test = test_data.drop(columns=[\"Date\", \"Ticker\", \"Return_tomorrow\", \"Target\"])\n",
    "    y_test = test_data[\"Target\"]\n",
    "    params = {\n",
    "        \"n_estimators\": 100,\n",
    "        \"max_depth\": 3,\n",
    "        \"learning_rate\": 0.1,\n",
    "        \"max_features\": 15,\n",
    "    }\n",
    "\n",
    "    model = GradientBoostingClassifier(**params)\n",
    "    model.fit(X_train, y_train)\n",
    "\n",
    "    y_pred = model.predict(X_test)\n",
    "\n",
    "    performance_stats[period] = {\n",
    "        \"accuracy\": accuracy_score(y_test, y_pred),\n",
    "        \"precision\": precision_score(y_test, y_pred),\n",
    "        \"recall\": recall_score(y_test, y_pred),\n",
    "        \"f1\": f1_score(y_test, y_pred),\n",
    "        \"roc_auc\": roc_auc_score(y_test, y_pred),\n",
    "        \"gini_index\": 2 * roc_auc_score(y_test, y_pred) - 1,\n",
    "    }\n",
    "\n",
    "    result_df = test_data[[\"Date\", \"Ticker\", \"Return_tomorrow\", \"Target\"]].copy()\n",
    "    y_pred_proba = model.predict_proba(X_test)[:, 1]\n",
    "    result_df[\"pred\"] = y_pred\n",
    "    result_df[\"pred_proba\"] = y_pred_proba\n",
    "    \n",
    "    result_df.to_parquet(f\"{save_path}/gbdt_period_{period}.parquet\")\n",
    "    dump(model, f\"{model_path}/gbdt_period_{period}.joblib\")\n",
    "    return model"
   ]
  },
  {
   "cell_type": "code",
   "execution_count": 5,
   "metadata": {},
   "outputs": [],
   "source": [
    "model = gbdt_single_period(1)"
   ]
  },
  {
   "cell_type": "code",
   "execution_count": 6,
   "metadata": {},
   "outputs": [
    {
     "data": {
      "text/plain": [
       "{1: {'accuracy': 0.5162747724074797,\n",
       "  'precision': 0.5164888870001275,\n",
       "  'recall': 0.4146607755164708,\n",
       "  'f1': 0.46000700220474827,\n",
       "  'roc_auc': 0.5156447673387257,\n",
       "  'gini_index': 0.031289534677451325}}"
      ]
     },
     "execution_count": 6,
     "metadata": {},
     "output_type": "execute_result"
    }
   ],
   "source": [
    "performance_stats"
   ]
  },
  {
   "cell_type": "code",
   "execution_count": 7,
   "metadata": {},
   "outputs": [
    {
     "name": "stderr",
     "output_type": "stream",
     "text": [
      "  0%|          | 0/25 [00:00<?, ?it/s]"
     ]
    },
    {
     "name": "stderr",
     "output_type": "stream",
     "text": [
      "100%|██████████| 25/25 [2:05:09<00:00, 300.38s/it]  \n"
     ]
    }
   ],
   "source": [
    "from tqdm import tqdm\n",
    "\n",
    "for period in tqdm(range(25)):\n",
    "    model = gbdt_single_period(period)"
   ]
  },
  {
   "cell_type": "code",
   "execution_count": 8,
   "metadata": {},
   "outputs": [],
   "source": [
    "performance_stats_df = pd.DataFrame(performance_stats)\n",
    "performance_stats_df.to_csv(f\"{save_path}/gbdt_performance_stats.csv\")"
   ]
  },
  {
   "cell_type": "code",
   "execution_count": 9,
   "metadata": {},
   "outputs": [],
   "source": [
    "all_df = pd.concat([pd.read_parquet(f\"{save_path}/gbdt_period_{i}.parquet\") for i in range(25)])\n",
    "all_df.to_parquet(f\"{save_path}/gbdt_all_periods.parquet\")"
   ]
  },
  {
   "cell_type": "code",
   "execution_count": 10,
   "metadata": {},
   "outputs": [
    {
     "data": {
      "text/plain": [
       "6250"
      ]
     },
     "execution_count": 10,
     "metadata": {},
     "output_type": "execute_result"
    }
   ],
   "source": [
    "all_df[\"Date\"].nunique()"
   ]
  },
  {
   "cell_type": "code",
   "execution_count": 11,
   "metadata": {},
   "outputs": [
    {
     "data": {
      "text/html": [
       "<div>\n",
       "<style scoped>\n",
       "    .dataframe tbody tr th:only-of-type {\n",
       "        vertical-align: middle;\n",
       "    }\n",
       "\n",
       "    .dataframe tbody tr th {\n",
       "        vertical-align: top;\n",
       "    }\n",
       "\n",
       "    .dataframe thead th {\n",
       "        text-align: right;\n",
       "    }\n",
       "</style>\n",
       "<table border=\"1\" class=\"dataframe\">\n",
       "  <thead>\n",
       "    <tr style=\"text-align: right;\">\n",
       "      <th></th>\n",
       "      <th>Date</th>\n",
       "      <th>Ticker</th>\n",
       "      <th>Return_tomorrow</th>\n",
       "      <th>Target</th>\n",
       "      <th>pred</th>\n",
       "      <th>pred_proba</th>\n",
       "    </tr>\n",
       "  </thead>\n",
       "  <tbody>\n",
       "    <tr>\n",
       "      <th>0</th>\n",
       "      <td>1999-06-25</td>\n",
       "      <td>AAPL</td>\n",
       "      <td>0.008848</td>\n",
       "      <td>1</td>\n",
       "      <td>1</td>\n",
       "      <td>0.526952</td>\n",
       "    </tr>\n",
       "    <tr>\n",
       "      <th>1</th>\n",
       "      <td>1999-06-25</td>\n",
       "      <td>ABMD</td>\n",
       "      <td>-0.027577</td>\n",
       "      <td>0</td>\n",
       "      <td>0</td>\n",
       "      <td>0.488183</td>\n",
       "    </tr>\n",
       "    <tr>\n",
       "      <th>2</th>\n",
       "      <td>1999-06-25</td>\n",
       "      <td>ABT</td>\n",
       "      <td>0.007118</td>\n",
       "      <td>0</td>\n",
       "      <td>0</td>\n",
       "      <td>0.499118</td>\n",
       "    </tr>\n",
       "    <tr>\n",
       "      <th>3</th>\n",
       "      <td>1999-06-25</td>\n",
       "      <td>ACGL</td>\n",
       "      <td>-0.037271</td>\n",
       "      <td>0</td>\n",
       "      <td>0</td>\n",
       "      <td>0.480981</td>\n",
       "    </tr>\n",
       "    <tr>\n",
       "      <th>4</th>\n",
       "      <td>1999-06-25</td>\n",
       "      <td>ADBE</td>\n",
       "      <td>0.026629</td>\n",
       "      <td>1</td>\n",
       "      <td>0</td>\n",
       "      <td>0.460329</td>\n",
       "    </tr>\n",
       "  </tbody>\n",
       "</table>\n",
       "</div>"
      ],
      "text/plain": [
       "        Date Ticker  Return_tomorrow  Target  pred  pred_proba\n",
       "0 1999-06-25   AAPL         0.008848       1     1    0.526952\n",
       "1 1999-06-25   ABMD        -0.027577       0     0    0.488183\n",
       "2 1999-06-25    ABT         0.007118       0     0    0.499118\n",
       "3 1999-06-25   ACGL        -0.037271       0     0    0.480981\n",
       "4 1999-06-25   ADBE         0.026629       1     0    0.460329"
      ]
     },
     "execution_count": 11,
     "metadata": {},
     "output_type": "execute_result"
    }
   ],
   "source": [
    "data = pd.read_parquet(f\"{save_path}/gbdt_all_periods.parquet\")\n",
    "data.head()"
   ]
  },
  {
   "cell_type": "code",
   "execution_count": null,
   "metadata": {},
   "outputs": [],
   "source": []
  }
 ],
 "metadata": {
  "kernelspec": {
   "display_name": "pytorch",
   "language": "python",
   "name": "python3"
  },
  "language_info": {
   "codemirror_mode": {
    "name": "ipython",
    "version": 3
   },
   "file_extension": ".py",
   "mimetype": "text/x-python",
   "name": "python",
   "nbconvert_exporter": "python",
   "pygments_lexer": "ipython3",
   "version": "3.8.0"
  }
 },
 "nbformat": 4,
 "nbformat_minor": 2
}
